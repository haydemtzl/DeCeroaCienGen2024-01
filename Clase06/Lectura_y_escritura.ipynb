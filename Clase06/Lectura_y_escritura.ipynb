{
 "cells": [
  {
   "cell_type": "code",
   "execution_count": 1,
   "id": "5c7fb196-e747-4eba-8fad-8c51409b85de",
   "metadata": {},
   "outputs": [],
   "source": [
    "# Operaciones de entrada y salida en archivos de Python\n",
    "# utilizando la funcion open()\n",
    "# <nombre> = open(<nombre del archivo>, <modo>)\n",
    "\n",
    "archivo = open(\"prueba.txt\", \"w\")"
   ]
  },
  {
   "cell_type": "code",
   "execution_count": 2,
   "id": "860fbee1-5cb4-44b4-968d-05621327ded5",
   "metadata": {},
   "outputs": [
    {
     "data": {
      "text/plain": [
       "84"
      ]
     },
     "execution_count": 2,
     "metadata": {},
     "output_type": "execute_result"
    }
   ],
   "source": [
    "# Escribiendo en el archivo\n",
    "archivo.write(\"Hola. \\nBienvenido al curso de D0a100. \\nEsperemos que sea una agradable experiencia.\")"
   ]
  },
  {
   "cell_type": "code",
   "execution_count": 3,
   "id": "d8e03cf4-49d2-4bee-b237-84ae9f8c6272",
   "metadata": {},
   "outputs": [
    {
     "data": {
      "text/plain": [
       "84"
      ]
     },
     "execution_count": 3,
     "metadata": {},
     "output_type": "execute_result"
    }
   ],
   "source": [
    "# Función para saber en donde se encuentra mi cursor\n",
    "archivo.tell()"
   ]
  },
  {
   "cell_type": "code",
   "execution_count": 4,
   "id": "e313f20c-d314-458a-b702-5e531bab37be",
   "metadata": {},
   "outputs": [
    {
     "data": {
      "text/plain": [
       "_io.TextIOWrapper"
      ]
     },
     "execution_count": 4,
     "metadata": {},
     "output_type": "execute_result"
    }
   ],
   "source": [
    "# Para saber el tipo de archivo \n",
    "type(archivo)"
   ]
  },
  {
   "cell_type": "code",
   "execution_count": 5,
   "id": "e7a00007-1103-4757-a026-b8db3e3db1cf",
   "metadata": {},
   "outputs": [],
   "source": [
    "archivo.close()"
   ]
  },
  {
   "cell_type": "code",
   "execution_count": 6,
   "id": "b3b3c855-a8d8-469a-97c9-723dbadf8be3",
   "metadata": {},
   "outputs": [],
   "source": [
    "archivo = open(\"prueba.txt\", \"r\")"
   ]
  },
  {
   "cell_type": "code",
   "execution_count": 7,
   "id": "4a96b089-0a92-4425-b31a-4d54a35131a6",
   "metadata": {},
   "outputs": [
    {
     "data": {
      "text/plain": [
       "'Hola. \\nBienvenido al curso de D0a100. \\n Esperemos que sea una agradable experiencia.'"
      ]
     },
     "execution_count": 7,
     "metadata": {},
     "output_type": "execute_result"
    }
   ],
   "source": [
    "archivo.read()"
   ]
  },
  {
   "cell_type": "code",
   "execution_count": 8,
   "id": "a5e7958d-f592-4e73-9b1e-fb2d47cfce8d",
   "metadata": {},
   "outputs": [
    {
     "data": {
      "text/plain": [
       "84"
      ]
     },
     "execution_count": 8,
     "metadata": {},
     "output_type": "execute_result"
    }
   ],
   "source": [
    "archivo.tell()"
   ]
  },
  {
   "cell_type": "code",
   "execution_count": 9,
   "id": "34107211-c2d8-4a6c-8855-6e4e626fe820",
   "metadata": {},
   "outputs": [
    {
     "data": {
      "text/plain": [
       "0"
      ]
     },
     "execution_count": 9,
     "metadata": {},
     "output_type": "execute_result"
    }
   ],
   "source": [
    "# Dirigo el cursor a la posición 0\n",
    "archivo.seek(0)"
   ]
  },
  {
   "cell_type": "code",
   "execution_count": 10,
   "id": "6b08d6de-0b8f-4bd8-8190-9facd9087873",
   "metadata": {},
   "outputs": [
    {
     "data": {
      "text/plain": [
       "'Hola. \\n'"
      ]
     },
     "execution_count": 10,
     "metadata": {},
     "output_type": "execute_result"
    }
   ],
   "source": [
    "archivo.readline()"
   ]
  },
  {
   "cell_type": "code",
   "execution_count": 11,
   "id": "a9e02806-84c3-46e6-9ad3-695b21f34b3c",
   "metadata": {},
   "outputs": [
    {
     "data": {
      "text/plain": [
       "'Bienvenido al curso de D0a100. \\n'"
      ]
     },
     "execution_count": 11,
     "metadata": {},
     "output_type": "execute_result"
    }
   ],
   "source": [
    "archivo.readline()"
   ]
  },
  {
   "cell_type": "code",
   "execution_count": 12,
   "id": "d9620303-d97a-4c29-884c-69d5e8eb1866",
   "metadata": {},
   "outputs": [
    {
     "data": {
      "text/plain": [
       "' Esperemos que sea una agradable experiencia.'"
      ]
     },
     "execution_count": 12,
     "metadata": {},
     "output_type": "execute_result"
    }
   ],
   "source": [
    "archivo.readline()"
   ]
  },
  {
   "cell_type": "code",
   "execution_count": 13,
   "id": "7529c035-df5a-4d0f-9f38-abc59c7af000",
   "metadata": {},
   "outputs": [
    {
     "data": {
      "text/plain": [
       "''"
      ]
     },
     "execution_count": 13,
     "metadata": {},
     "output_type": "execute_result"
    }
   ],
   "source": [
    "archivo.readline()"
   ]
  },
  {
   "cell_type": "code",
   "execution_count": 14,
   "id": "d04d0bd5-ca5c-46cf-aafd-a813473bee3d",
   "metadata": {},
   "outputs": [],
   "source": [
    "archivo.close()"
   ]
  },
  {
   "cell_type": "code",
   "execution_count": null,
   "id": "66854c98-3b4d-4143-b73d-27ebbf6ae580",
   "metadata": {},
   "outputs": [],
   "source": []
  }
 ],
 "metadata": {
  "kernelspec": {
   "display_name": "Python 3 (ipykernel)",
   "language": "python",
   "name": "python3"
  },
  "language_info": {
   "codemirror_mode": {
    "name": "ipython",
    "version": 3
   },
   "file_extension": ".py",
   "mimetype": "text/x-python",
   "name": "python",
   "nbconvert_exporter": "python",
   "pygments_lexer": "ipython3",
   "version": "3.11.6"
  }
 },
 "nbformat": 4,
 "nbformat_minor": 5
}
