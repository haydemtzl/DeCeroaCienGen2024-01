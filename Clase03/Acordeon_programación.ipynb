{
 "cells": [
  {
   "cell_type": "code",
   "execution_count": 1,
   "id": "5495656a-1252-43b1-9563-a24e186019c8",
   "metadata": {},
   "outputs": [],
   "source": [
    "#Importar librerias\n",
    "import os\n",
    "import sys"
   ]
  },
  {
   "cell_type": "code",
   "execution_count": 16,
   "id": "54a4fc12-7a65-487d-b7f3-30c722c690dd",
   "metadata": {},
   "outputs": [
    {
     "data": {
      "text/plain": [
       "str"
      ]
     },
     "execution_count": 16,
     "metadata": {},
     "output_type": "execute_result"
    }
   ],
   "source": [
    "# Declaracion variables - Python toma el tipo de variable del dato que está recibiendo.\n",
    "nombre1 = \"Hayde\"\n",
    "type(nombre1)"
   ]
  },
  {
   "cell_type": "code",
   "execution_count": 3,
   "id": "5ae077db-46c8-488e-95d9-8e506c825fd6",
   "metadata": {},
   "outputs": [
    {
     "data": {
      "text/plain": [
       "int"
      ]
     },
     "execution_count": 3,
     "metadata": {},
     "output_type": "execute_result"
    }
   ],
   "source": [
    "numdealumnos = 9\n",
    "type(numdealumnos)"
   ]
  },
  {
   "cell_type": "code",
   "execution_count": 4,
   "id": "90255bbd-e827-4160-aeea-99e3efa07e99",
   "metadata": {},
   "outputs": [
    {
     "data": {
      "text/plain": [
       "float"
      ]
     },
     "execution_count": 4,
     "metadata": {},
     "output_type": "execute_result"
    }
   ],
   "source": [
    "mitadnumalumnos = 4.5\n",
    "type(mitadnumalumnos)"
   ]
  },
  {
   "cell_type": "code",
   "execution_count": 46,
   "id": "df69bd20-ec64-4f4e-b413-118b4dbdce4c",
   "metadata": {},
   "outputs": [
    {
     "data": {
      "text/plain": [
       "list"
      ]
     },
     "execution_count": 46,
     "metadata": {},
     "output_type": "execute_result"
    }
   ],
   "source": [
    "ejemplolista = [1,\n",
    "                2,\n",
    "                3]\n",
    "type(ejemplolista)"
   ]
  },
  {
   "cell_type": "code",
   "execution_count": 6,
   "id": "24bae73f-cb2a-4771-b86b-e70eee43b9b5",
   "metadata": {},
   "outputs": [
    {
     "name": "stdout",
     "output_type": "stream",
     "text": [
      "['Hayde', 9, 4.5, [1, 2, 3]]\n"
     ]
    }
   ],
   "source": [
    "listadevar = [nombre1, numdealumnos, mitadnumalumnos, ejemplolista]\n",
    "print(listadevar)"
   ]
  },
  {
   "cell_type": "markdown",
   "id": "10547ee6-cc3a-42b5-b5c0-3fd9a76a1d8c",
   "metadata": {},
   "source": [
    "# Ejercicio clase 3\n",
    "El día de hoy vamos a terminar de revisar el tema de programación"
   ]
  },
  {
   "cell_type": "code",
   "execution_count": 7,
   "id": "add0c2ab-a0ae-468d-bfcc-61868522b271",
   "metadata": {},
   "outputs": [
    {
     "data": {
      "text/plain": [
       "tuple"
      ]
     },
     "execution_count": 7,
     "metadata": {},
     "output_type": "execute_result"
    }
   ],
   "source": [
    "ejemplotupla = (3, 4, 5)\n",
    "type(ejemplotupla)"
   ]
  },
  {
   "cell_type": "code",
   "execution_count": 8,
   "id": "0dc2da63-a1da-44f2-a871-a33cf758bf76",
   "metadata": {},
   "outputs": [
    {
     "name": "stdout",
     "output_type": "stream",
     "text": [
      "faride\n"
     ]
    }
   ],
   "source": [
    "nombre1 = \"faride\"\n",
    "print(nombre1)"
   ]
  },
  {
   "cell_type": "code",
   "execution_count": 9,
   "id": "76a87cc5-c96f-4d7a-9af8-8e7d88440dbc",
   "metadata": {},
   "outputs": [
    {
     "name": "stdout",
     "output_type": "stream",
     "text": [
      "3\n"
     ]
    }
   ],
   "source": [
    "print(ejemplotupla[0])"
   ]
  },
  {
   "cell_type": "code",
   "execution_count": 48,
   "id": "309860b1-41f6-4525-a12d-a5fa35e560dc",
   "metadata": {},
   "outputs": [
    {
     "ename": "TypeError",
     "evalue": "'tuple' object does not support item assignment",
     "output_type": "error",
     "traceback": [
      "\u001b[0;31m---------------------------------------------------------------------------\u001b[0m",
      "\u001b[0;31mTypeError\u001b[0m                                 Traceback (most recent call last)",
      "Cell \u001b[0;32mIn[48], line 1\u001b[0m\n\u001b[0;32m----> 1\u001b[0m \u001b[43mejemplotupla\u001b[49m\u001b[43m[\u001b[49m\u001b[38;5;241;43m0\u001b[39;49m\u001b[43m]\u001b[49m \u001b[38;5;241m=\u001b[39m \u001b[38;5;241m7\u001b[39m\n",
      "\u001b[0;31mTypeError\u001b[0m: 'tuple' object does not support item assignment"
     ]
    }
   ],
   "source": [
    "ejemplotupla[0] = 7"
   ]
  },
  {
   "cell_type": "code",
   "execution_count": 11,
   "id": "5331cb44-b7f2-41b0-8239-fac23dee97c2",
   "metadata": {},
   "outputs": [
    {
     "name": "stdout",
     "output_type": "stream",
     "text": [
      "1\n"
     ]
    }
   ],
   "source": [
    "print(ejemplolista[0])"
   ]
  },
  {
   "cell_type": "code",
   "execution_count": 12,
   "id": "eacf1abf-8e55-460d-8806-8e70f09a2fdf",
   "metadata": {},
   "outputs": [
    {
     "name": "stdout",
     "output_type": "stream",
     "text": [
      "[7, 2, 3]\n"
     ]
    }
   ],
   "source": [
    "ejemplolista[0] = 7\n",
    "print(ejemplolista)"
   ]
  },
  {
   "cell_type": "code",
   "execution_count": 13,
   "id": "607cb67e-cb46-4dfb-b297-8b310ec69c11",
   "metadata": {},
   "outputs": [
    {
     "name": "stdout",
     "output_type": "stream",
     "text": [
      "{'primera clase': '4 de Mayo', 'Segunda Clase': '11 de Mayo'}\n"
     ]
    }
   ],
   "source": [
    "ejemplodict = { \"primera clase\": \"4 de Mayo\", \"Segunda Clase\":\"11 de Mayo\"}\n",
    "print(ejemplodict)"
   ]
  },
  {
   "cell_type": "code",
   "execution_count": 14,
   "id": "5ffaa47e-2cda-4238-b307-07b5f2ff9043",
   "metadata": {},
   "outputs": [
    {
     "data": {
      "text/plain": [
       "'4 de Mayo'"
      ]
     },
     "execution_count": 14,
     "metadata": {},
     "output_type": "execute_result"
    }
   ],
   "source": [
    "ejemplodict[\"primera clase\"]"
   ]
  },
  {
   "cell_type": "code",
   "execution_count": 15,
   "id": "4353c9bb-26ca-4691-87ae-4c5e8898a59f",
   "metadata": {},
   "outputs": [
    {
     "data": {
      "text/plain": [
       "{'clave': 'valor', 'numero': 1}"
      ]
     },
     "execution_count": 15,
     "metadata": {},
     "output_type": "execute_result"
    }
   ],
   "source": [
    "dictionary = {\"clave\":  \"valor\", \"numero\":1}\n",
    "dictionary"
   ]
  },
  {
   "cell_type": "markdown",
   "id": "45a9d0b8-12f2-4700-a8c0-1ff4f5f39c83",
   "metadata": {},
   "source": [
    "# Clase 3 "
   ]
  },
  {
   "cell_type": "code",
   "execution_count": 22,
   "id": "b02c12ae-dc43-4510-8186-faa85a5bc7bb",
   "metadata": {},
   "outputs": [],
   "source": [
    "VARIABLe = 3"
   ]
  },
  {
   "cell_type": "code",
   "execution_count": 23,
   "id": "59ddbd70-4867-4907-8a9d-11fed68f7c7c",
   "metadata": {},
   "outputs": [],
   "source": [
    "VAriaBLE = 5"
   ]
  },
  {
   "cell_type": "code",
   "execution_count": 24,
   "id": "0c54becd-f72d-4d50-8af0-f0ac867bd234",
   "metadata": {},
   "outputs": [
    {
     "data": {
      "text/plain": [
       "False"
      ]
     },
     "execution_count": 24,
     "metadata": {},
     "output_type": "execute_result"
    }
   ],
   "source": [
    "VARIABLe == VAriaBLE"
   ]
  },
  {
   "cell_type": "code",
   "execution_count": 33,
   "id": "a2462557-0775-40e2-8d48-68f33eb2b861",
   "metadata": {},
   "outputs": [
    {
     "data": {
      "text/plain": [
       "'hola'"
      ]
     },
     "execution_count": 33,
     "metadata": {},
     "output_type": "execute_result"
    }
   ],
   "source": [
    "var1 = \"hola\"\n",
    "var1"
   ]
  },
  {
   "cell_type": "code",
   "execution_count": 34,
   "id": "08040930-af63-4b20-9384-711a674a076f",
   "metadata": {},
   "outputs": [],
   "source": [
    "del(var1)"
   ]
  },
  {
   "cell_type": "code",
   "execution_count": 35,
   "id": "1993f316-4a78-418f-b8c2-50b524651327",
   "metadata": {},
   "outputs": [
    {
     "ename": "NameError",
     "evalue": "name 'var1' is not defined",
     "output_type": "error",
     "traceback": [
      "\u001b[0;31m---------------------------------------------------------------------------\u001b[0m",
      "\u001b[0;31mNameError\u001b[0m                                 Traceback (most recent call last)",
      "Cell \u001b[0;32mIn[35], line 1\u001b[0m\n\u001b[0;32m----> 1\u001b[0m \u001b[43mvar1\u001b[49m\n",
      "\u001b[0;31mNameError\u001b[0m: name 'var1' is not defined"
     ]
    }
   ],
   "source": [
    "var1"
   ]
  },
  {
   "cell_type": "code",
   "execution_count": 36,
   "id": "9e1ff725-013d-4ba9-9dd0-e1dfa69599bf",
   "metadata": {},
   "outputs": [
    {
     "data": {
      "text/plain": [
       "True"
      ]
     },
     "execution_count": 36,
     "metadata": {},
     "output_type": "execute_result"
    }
   ],
   "source": [
    "4.5 in listadevar"
   ]
  },
  {
   "cell_type": "code",
   "execution_count": 37,
   "id": "5dab058f-be15-4142-9eed-f7841f3c0070",
   "metadata": {},
   "outputs": [
    {
     "data": {
      "text/plain": [
       "['Hayde', 9, 4.5, [7, 2, 3]]"
      ]
     },
     "execution_count": 37,
     "metadata": {},
     "output_type": "execute_result"
    }
   ],
   "source": [
    "listadevar"
   ]
  },
  {
   "cell_type": "code",
   "execution_count": 38,
   "id": "5a17100b-6dcc-493d-acdf-fc8546ca2ed3",
   "metadata": {},
   "outputs": [
    {
     "data": {
      "text/plain": [
       "False"
      ]
     },
     "execution_count": 38,
     "metadata": {},
     "output_type": "execute_result"
    }
   ],
   "source": [
    "8 in listadevar"
   ]
  },
  {
   "cell_type": "code",
   "execution_count": 39,
   "id": "e8cef064-f860-427b-99e7-0dc47564fff7",
   "metadata": {},
   "outputs": [
    {
     "data": {
      "text/plain": [
       "True"
      ]
     },
     "execution_count": 39,
     "metadata": {},
     "output_type": "execute_result"
    }
   ],
   "source": [
    "8 not in listadevar"
   ]
  },
  {
   "cell_type": "code",
   "execution_count": 45,
   "id": "cd0d3a02-18f3-4136-9eb8-d91683c1e30d",
   "metadata": {},
   "outputs": [
    {
     "name": "stdout",
     "output_type": "stream",
     "text": [
      "No está el 8 en la lista\n"
     ]
    }
   ],
   "source": [
    "if 8 not in listadevar:\n",
    "    print(\"No está el 8 en la lista\")\n",
    "else:\n",
    "    print(\"Si está en la lista\")"
   ]
  },
  {
   "cell_type": "code",
   "execution_count": 50,
   "id": "049305b6-69f3-4cb6-bc8f-6b9cc9de70ab",
   "metadata": {},
   "outputs": [],
   "source": [
    "num1 = 8\n",
    "num2 = 9\n",
    "num3 = 10"
   ]
  },
  {
   "cell_type": "code",
   "execution_count": 53,
   "id": "1d83ee61-88c4-4799-af43-d6bba6b12e23",
   "metadata": {},
   "outputs": [
    {
     "data": {
      "text/plain": [
       "27"
      ]
     },
     "execution_count": 53,
     "metadata": {},
     "output_type": "execute_result"
    }
   ],
   "source": [
    "total = num1 + \\\n",
    "        num2 + \\\n",
    "        num3\n",
    "total"
   ]
  },
  {
   "cell_type": "code",
   "execution_count": 54,
   "id": "23adab4c-c078-41b6-9ff9-4af209222785",
   "metadata": {},
   "outputs": [],
   "source": [
    "oracion = \"\"\"Hola como estas\n",
    "sljdlajflajfasdjald\n",
    "anldakdhlaknd\n",
    "aljdnlkands\n",
    "alkdnlakdnk\"\"\""
   ]
  },
  {
   "cell_type": "code",
   "execution_count": 56,
   "id": "56621248-335c-46f6-9aeb-55f45d674b22",
   "metadata": {},
   "outputs": [
    {
     "name": "stdout",
     "output_type": "stream",
     "text": [
      "Hola como estas\n",
      "sljdlajflajfasdjald\n",
      "anldakdhlaknd\n",
      "aljdnlkands\n",
      "alkdnlakdnk\n"
     ]
    }
   ],
   "source": [
    "print(oracion)"
   ]
  },
  {
   "cell_type": "code",
   "execution_count": 57,
   "id": "02c7f86c-1e16-44a7-a443-6518ff089b17",
   "metadata": {},
   "outputs": [],
   "source": [
    "# Este es comentario"
   ]
  },
  {
   "cell_type": "code",
   "execution_count": 60,
   "id": "c6a3a61b-c177-4c60-9c9e-0f792f0ba93d",
   "metadata": {},
   "outputs": [
    {
     "data": {
      "text/plain": [
       "True"
      ]
     },
     "execution_count": 60,
     "metadata": {},
     "output_type": "execute_result"
    }
   ],
   "source": [
    "a = True\n",
    "a is True"
   ]
  },
  {
   "cell_type": "code",
   "execution_count": 61,
   "id": "c4335042-6a29-48df-8e98-155aa391cd57",
   "metadata": {},
   "outputs": [
    {
     "name": "stdout",
     "output_type": "stream",
     "text": [
      "Quiero comprar un CD de Sinead O’Connor\n"
     ]
    }
   ],
   "source": [
    "print(\"Quiero comprar un CD de Sinead O’Connor\")"
   ]
  },
  {
   "cell_type": "code",
   "execution_count": 63,
   "id": "5c1f54d6-632a-4c70-bef9-19bccbcb8ee3",
   "metadata": {},
   "outputs": [
    {
     "name": "stdout",
     "output_type": "stream",
     "text": [
      "Quiero comprar un CD de Sinead O'Connor\n"
     ]
    }
   ],
   "source": [
    "print('Quiero comprar un CD de Sinead O\\'Connor')"
   ]
  },
  {
   "cell_type": "markdown",
   "id": "6adf3d2b-d69b-4c31-a903-0435c678bb14",
   "metadata": {},
   "source": [
    "# Listas en Python"
   ]
  },
  {
   "cell_type": "code",
   "execution_count": 64,
   "id": "d14d9bb5-e390-4805-8296-d90328304c97",
   "metadata": {},
   "outputs": [],
   "source": [
    "lista = [1, \"dos\", False, [45, \"cien\"]]"
   ]
  },
  {
   "cell_type": "code",
   "execution_count": 65,
   "id": "2e3b50ff-5656-4a3a-8a09-6cbbc8ecc750",
   "metadata": {},
   "outputs": [
    {
     "data": {
      "text/plain": [
       "'dos'"
      ]
     },
     "execution_count": 65,
     "metadata": {},
     "output_type": "execute_result"
    }
   ],
   "source": [
    "lista[1] "
   ]
  },
  {
   "cell_type": "code",
   "execution_count": 67,
   "id": "bebb7d94-fd75-4353-ab8c-022cb8e9833b",
   "metadata": {},
   "outputs": [
    {
     "data": {
      "text/plain": [
       "[45, 'cien']"
      ]
     },
     "execution_count": 67,
     "metadata": {},
     "output_type": "execute_result"
    }
   ],
   "source": [
    "lista[3]"
   ]
  },
  {
   "cell_type": "code",
   "execution_count": 68,
   "id": "27638788-eae9-4b61-80ed-b428a3131d76",
   "metadata": {},
   "outputs": [
    {
     "data": {
      "text/plain": [
       "45"
      ]
     },
     "execution_count": 68,
     "metadata": {},
     "output_type": "execute_result"
    }
   ],
   "source": [
    "lista[3][0]"
   ]
  },
  {
   "cell_type": "code",
   "execution_count": 69,
   "id": "8751d3bd-e222-4bf6-94ce-d6958074b286",
   "metadata": {},
   "outputs": [
    {
     "data": {
      "text/plain": [
       "'cien'"
      ]
     },
     "execution_count": 69,
     "metadata": {},
     "output_type": "execute_result"
    }
   ],
   "source": [
    "lista[3][1]"
   ]
  },
  {
   "cell_type": "code",
   "execution_count": 70,
   "id": "7f8ce20d-4c09-4c5f-84fd-5047d796013d",
   "metadata": {},
   "outputs": [
    {
     "data": {
      "text/plain": [
       "[1, 'dos', False, [45, 'cien']]"
      ]
     },
     "execution_count": 70,
     "metadata": {},
     "output_type": "execute_result"
    }
   ],
   "source": [
    "lista"
   ]
  },
  {
   "cell_type": "code",
   "execution_count": 71,
   "id": "24a8260d-dc09-4fef-a6c8-35d5596f9a6e",
   "metadata": {},
   "outputs": [
    {
     "data": {
      "text/plain": [
       "1"
      ]
     },
     "execution_count": 71,
     "metadata": {},
     "output_type": "execute_result"
    }
   ],
   "source": [
    "lista[0]"
   ]
  },
  {
   "cell_type": "code",
   "execution_count": 72,
   "id": "2da96a83-6d72-4a3f-a72e-e488e0ca4d0a",
   "metadata": {},
   "outputs": [
    {
     "data": {
      "text/plain": [
       "'dos'"
      ]
     },
     "execution_count": 72,
     "metadata": {},
     "output_type": "execute_result"
    }
   ],
   "source": [
    "lista[1]"
   ]
  },
  {
   "cell_type": "code",
   "execution_count": 73,
   "id": "157df9cb-bc20-44e7-9dd8-438c8ea447d1",
   "metadata": {},
   "outputs": [
    {
     "data": {
      "text/plain": [
       "False"
      ]
     },
     "execution_count": 73,
     "metadata": {},
     "output_type": "execute_result"
    }
   ],
   "source": [
    "lista[2]"
   ]
  },
  {
   "cell_type": "code",
   "execution_count": 74,
   "id": "e3544e81-6683-4fba-ad56-73f9c674108a",
   "metadata": {},
   "outputs": [
    {
     "data": {
      "text/plain": [
       "[45, 'cien']"
      ]
     },
     "execution_count": 74,
     "metadata": {},
     "output_type": "execute_result"
    }
   ],
   "source": [
    "lista[3]"
   ]
  },
  {
   "cell_type": "code",
   "execution_count": 78,
   "id": "a491f73c-6272-414d-b744-03db2c95c38c",
   "metadata": {},
   "outputs": [
    {
     "name": "stdout",
     "output_type": "stream",
     "text": [
      "1\n",
      "dos\n",
      "False\n",
      "[45, 'cien']\n"
     ]
    }
   ],
   "source": [
    "for elemento in lista:\n",
    "    print(elemento)"
   ]
  },
  {
   "cell_type": "code",
   "execution_count": 84,
   "id": "70a46833-c179-498f-a812-7410112a9344",
   "metadata": {},
   "outputs": [],
   "source": [
    "lista2 = [1,2,3,4,5]"
   ]
  },
  {
   "cell_type": "code",
   "execution_count": 85,
   "id": "64d2d1a6-e656-4fcb-9adc-445ba5bbdfec",
   "metadata": {},
   "outputs": [
    {
     "name": "stdout",
     "output_type": "stream",
     "text": [
      "1\n",
      "8\n",
      "27\n",
      "64\n",
      "125\n"
     ]
    }
   ],
   "source": [
    "# Iteración manera simple, por valor\n",
    "for x in lista2:\n",
    "    temp = x**3\n",
    "    print(temp)"
   ]
  },
  {
   "cell_type": "code",
   "execution_count": 86,
   "id": "d83de561-56f8-4d95-bc8a-bfdfcdb00e05",
   "metadata": {},
   "outputs": [
    {
     "name": "stdout",
     "output_type": "stream",
     "text": [
      "1\n",
      "2\n",
      "3\n",
      "4\n",
      "5\n"
     ]
    }
   ],
   "source": [
    "# Iteración por indice\n",
    "for i in range(len(lista2)): # por cada indice hasta antes  del 5\n",
    "    print(lista2[i])"
   ]
  },
  {
   "cell_type": "code",
   "execution_count": 92,
   "id": "01cddbd7-2bf8-4594-b621-5145f60f237c",
   "metadata": {},
   "outputs": [
    {
     "name": "stdout",
     "output_type": "stream",
     "text": [
      "1\n",
      "3\n",
      "6\n",
      "10\n",
      "15\n"
     ]
    }
   ],
   "source": [
    "sumaacum = 0\n",
    "for i in range(len(lista2)):# 0,5\n",
    "    sumaacum += lista2[i] # Es igual que si yo pongo sumaacum = sumaacum + lista2[i]\n",
    "    lista2[i] = sumaacum\n",
    "    print(lista2[i])"
   ]
  },
  {
   "cell_type": "code",
   "execution_count": 97,
   "id": "71fb3cfb-7d61-49ef-adad-767bd36f8982",
   "metadata": {},
   "outputs": [],
   "source": [
    "lista2 = [1,2,3,4,5]"
   ]
  },
  {
   "cell_type": "code",
   "execution_count": 98,
   "id": "3a49a230-68f9-46d4-8309-1134affd357d",
   "metadata": {},
   "outputs": [
    {
     "name": "stdout",
     "output_type": "stream",
     "text": [
      "[1, 3, 6, 10, 15]\n"
     ]
    }
   ],
   "source": [
    "listanueva = []\n",
    "suma = 0\n",
    "for i in range(len(lista2)):\n",
    "    suma = suma + lista2[i]\n",
    "    listanueva.append(suma)\n",
    "print(listanueva)"
   ]
  },
  {
   "cell_type": "code",
   "execution_count": 89,
   "id": "ae2805a5-1b81-4547-8520-16cb5771fc48",
   "metadata": {},
   "outputs": [
    {
     "data": {
      "text/plain": [
       "4"
      ]
     },
     "execution_count": 89,
     "metadata": {},
     "output_type": "execute_result"
    }
   ],
   "source": [
    "#Funcion Len que sirve para contar la longitud de conjuntos\n",
    "len(lista)"
   ]
  },
  {
   "cell_type": "code",
   "execution_count": 90,
   "id": "a0af3b94-7fa8-4833-b850-30df950abb42",
   "metadata": {},
   "outputs": [
    {
     "data": {
      "text/plain": [
       "5"
      ]
     },
     "execution_count": 90,
     "metadata": {},
     "output_type": "execute_result"
    }
   ],
   "source": [
    "len(lista2)"
   ]
  },
  {
   "cell_type": "code",
   "execution_count": 91,
   "id": "2a7b9a91-5d74-4880-a6bc-3edfb845da9d",
   "metadata": {},
   "outputs": [
    {
     "data": {
      "text/plain": [
       "2"
      ]
     },
     "execution_count": 91,
     "metadata": {},
     "output_type": "execute_result"
    }
   ],
   "source": [
    "len(dictionary)"
   ]
  },
  {
   "cell_type": "code",
   "execution_count": 99,
   "id": "daf188ac-b85d-4d3f-9dae-a527d15e6889",
   "metadata": {},
   "outputs": [
    {
     "data": {
      "text/plain": [
       "range(0, 5)"
      ]
     },
     "execution_count": 99,
     "metadata": {},
     "output_type": "execute_result"
    }
   ],
   "source": [
    "# En el rango, el primer elemento dentro de los paréntesis indica el inicio y el segundo indica el fin\n",
    "# En el rango, el primer párametro indica el inicio y el segundo indica el fin\n",
    "\n",
    "range(5) # empiezo desde el cero hasta el 5 (0,1,2,3,4)\n",
    "range(0,5) # aquí estoy declarando que empiece desde el 0 hasta el 5 (0,1,2,3,4)\n",
    "range(1,5) # (1,2,3,4)\n",
    "range(5,1) # (5,4,3,2)\n",
    "\n",
    "range(len(lista2))"
   ]
  },
  {
   "cell_type": "code",
   "execution_count": 108,
   "id": "79fa3547-8fa4-4547-b95e-49e4a4a1e003",
   "metadata": {},
   "outputs": [],
   "source": [
    "estudiantes = [\"Jose\", \"Raul\", \"Marcelo\"]"
   ]
  },
  {
   "cell_type": "code",
   "execution_count": 109,
   "id": "05851f52-ebdf-44e6-935e-b2554fc855e0",
   "metadata": {},
   "outputs": [
    {
     "data": {
      "text/plain": [
       "3"
      ]
     },
     "execution_count": 109,
     "metadata": {},
     "output_type": "execute_result"
    }
   ],
   "source": [
    "len(estudiantes)"
   ]
  },
  {
   "cell_type": "code",
   "execution_count": 110,
   "id": "19cc82e9-ebd2-48cc-84ba-54b18c114030",
   "metadata": {},
   "outputs": [
    {
     "data": {
      "text/plain": [
       "['Maria', 'Jose', 'Raul', 'Marcelo']"
      ]
     },
     "execution_count": 110,
     "metadata": {},
     "output_type": "execute_result"
    }
   ],
   "source": [
    "estudiantes.insert(0,'Maria') # Inserta un elemento individual en el indice especificado, \n",
    "estudiantes"
   ]
  },
  {
   "cell_type": "code",
   "execution_count": 111,
   "id": "a54bdbd9-e491-4654-8bf3-f7bee328875c",
   "metadata": {},
   "outputs": [
    {
     "data": {
      "text/plain": [
       "['Maria', 'Jose', 'Raul', 'Marcelo', 'Mariela']"
      ]
     },
     "execution_count": 111,
     "metadata": {},
     "output_type": "execute_result"
    }
   ],
   "source": [
    "estudiantes.append('Mariela')# Inserta un elemento individual al final de la lista\n",
    "estudiantes"
   ]
  },
  {
   "cell_type": "code",
   "execution_count": 112,
   "id": "ad582a2e-e181-4282-b0b5-dc6a79e39f12",
   "metadata": {},
   "outputs": [
    {
     "data": {
      "text/plain": [
       "['Maria', 'Jose', 'Raul', 'Marcelo', 'Mariela', 'Dario', 'Natalia']"
      ]
     },
     "execution_count": 112,
     "metadata": {},
     "output_type": "execute_result"
    }
   ],
   "source": [
    "estudiantes.extend(['Dario','Natalia']) # Inserta un grupo de elementos, que deben especificarse como lista, con corchetes, + de 1\n",
    "estudiantes"
   ]
  },
  {
   "cell_type": "code",
   "execution_count": 113,
   "id": "40454edd-bc0d-4cc3-bd80-0c142a7f40c5",
   "metadata": {},
   "outputs": [
    {
     "data": {
      "text/plain": [
       "3"
      ]
     },
     "execution_count": 113,
     "metadata": {},
     "output_type": "execute_result"
    }
   ],
   "source": [
    "estudiantes.index('Marcelo')"
   ]
  },
  {
   "cell_type": "code",
   "execution_count": 114,
   "id": "78237d47-a467-4cca-a47f-87175d870013",
   "metadata": {},
   "outputs": [
    {
     "data": {
      "text/plain": [
       "'Natalia'"
      ]
     },
     "execution_count": 114,
     "metadata": {},
     "output_type": "execute_result"
    }
   ],
   "source": [
    "estudiantes[-1]"
   ]
  },
  {
   "cell_type": "code",
   "execution_count": 115,
   "id": "c6a757b6-9ab9-4fbe-b043-45f2a3b37211",
   "metadata": {},
   "outputs": [
    {
     "data": {
      "text/plain": [
       "'Dario'"
      ]
     },
     "execution_count": 115,
     "metadata": {},
     "output_type": "execute_result"
    }
   ],
   "source": [
    "estudiantes[-2]"
   ]
  },
  {
   "cell_type": "markdown",
   "id": "1f67df46-3d93-4f93-a5ab-49719e8a3390",
   "metadata": {},
   "source": [
    "## Slicing "
   ]
  },
  {
   "cell_type": "code",
   "execution_count": 116,
   "id": "790a75be-2326-4cea-a15f-a0160bb97b86",
   "metadata": {},
   "outputs": [
    {
     "data": {
      "text/plain": [
       "['Maria', 'Jose', 'Raul']"
      ]
     },
     "execution_count": 116,
     "metadata": {},
     "output_type": "execute_result"
    }
   ],
   "source": [
    "estudiantes[0:3]"
   ]
  },
  {
   "cell_type": "code",
   "execution_count": 117,
   "id": "fbef0698-0ee3-469e-9f26-bbb19c625ab5",
   "metadata": {},
   "outputs": [
    {
     "data": {
      "text/plain": [
       "['Maria', 'Jose', 'Raul']"
      ]
     },
     "execution_count": 117,
     "metadata": {},
     "output_type": "execute_result"
    }
   ],
   "source": [
    "estudiantes[:3]"
   ]
  },
  {
   "cell_type": "code",
   "execution_count": 118,
   "id": "d7af6a23-97d4-4531-b114-96e16d1e0ab1",
   "metadata": {},
   "outputs": [
    {
     "data": {
      "text/plain": [
       "['Maria', 'Jose', 'Raul', 'Marcelo', 'Mariela', 'Dario', 'Natalia']"
      ]
     },
     "execution_count": 118,
     "metadata": {},
     "output_type": "execute_result"
    }
   ],
   "source": [
    "estudiantes[:]"
   ]
  },
  {
   "cell_type": "code",
   "execution_count": 119,
   "id": "3a7e23e2-1c8a-4c3e-923b-cea9a27af4b0",
   "metadata": {},
   "outputs": [
    {
     "data": {
      "text/plain": [
       "['Marcelo', 'Mariela', 'Dario', 'Natalia']"
      ]
     },
     "execution_count": 119,
     "metadata": {},
     "output_type": "execute_result"
    }
   ],
   "source": [
    "estudiantes[3:]"
   ]
  },
  {
   "cell_type": "code",
   "execution_count": 120,
   "id": "c99a676b-bdb6-416d-a4b1-d21f80d033a3",
   "metadata": {},
   "outputs": [
    {
     "data": {
      "text/plain": [
       "['Maria', 'Raul', 'Mariela']"
      ]
     },
     "execution_count": 120,
     "metadata": {},
     "output_type": "execute_result"
    }
   ],
   "source": [
    "estudiantes[0:5:2]"
   ]
  },
  {
   "cell_type": "code",
   "execution_count": 126,
   "id": "c4d1fefd-d163-4f61-8270-5185128a1c02",
   "metadata": {},
   "outputs": [],
   "source": [
    "strin = \"Panchito, es mi gatito\""
   ]
  },
  {
   "cell_type": "code",
   "execution_count": 122,
   "id": "f16bde22-1ace-4c35-b27d-2499a3cc1b35",
   "metadata": {},
   "outputs": [
    {
     "data": {
      "text/plain": [
       "'P'"
      ]
     },
     "execution_count": 122,
     "metadata": {},
     "output_type": "execute_result"
    }
   ],
   "source": [
    "strin[0]"
   ]
  },
  {
   "cell_type": "code",
   "execution_count": 123,
   "id": "e8e2e995-3814-4515-9e91-2c2dd0e4c5de",
   "metadata": {},
   "outputs": [
    {
     "data": {
      "text/plain": [
       "'Pan'"
      ]
     },
     "execution_count": 123,
     "metadata": {},
     "output_type": "execute_result"
    }
   ],
   "source": [
    "strin[:3]"
   ]
  },
  {
   "cell_type": "markdown",
   "id": "12dfe8c1-745a-437e-be43-b70c20a5dfb3",
   "metadata": {},
   "source": [
    "## Más listas"
   ]
  },
  {
   "cell_type": "code",
   "execution_count": 127,
   "id": "cb76e220-8e83-4b1f-b37d-7e7f6a89a9e2",
   "metadata": {},
   "outputs": [
    {
     "data": {
      "text/plain": [
       "['Panchito,', 'es', 'mi', 'gatito']"
      ]
     },
     "execution_count": 127,
     "metadata": {},
     "output_type": "execute_result"
    }
   ],
   "source": [
    "strin.split()"
   ]
  },
  {
   "cell_type": "code",
   "execution_count": 128,
   "id": "61c24261-c443-4592-8fd1-a9c63c477863",
   "metadata": {},
   "outputs": [
    {
     "data": {
      "text/plain": [
       "['Panchito,', 'es', 'mi', 'gatito']"
      ]
     },
     "execution_count": 128,
     "metadata": {},
     "output_type": "execute_result"
    }
   ],
   "source": [
    "listanueva = strin.split() # Split normal, hace división por espacios\n",
    "listanueva"
   ]
  },
  {
   "cell_type": "code",
   "execution_count": 169,
   "id": "dae479c8-b584-4566-928e-541d29eaef19",
   "metadata": {},
   "outputs": [
    {
     "data": {
      "text/plain": [
       "['1', '2', '3', '4', '5', '6']"
      ]
     },
     "execution_count": 169,
     "metadata": {},
     "output_type": "execute_result"
    }
   ],
   "source": [
    "\"1-2-3-4-5-6\".split(\"-\") #Split con caracter definido"
   ]
  },
  {
   "cell_type": "code",
   "execution_count": 152,
   "id": "d370720d-043c-4715-92f5-73a7541fcbe4",
   "metadata": {},
   "outputs": [],
   "source": [
    "estudiantes2 = [\"Martin\", \"Jose\", \"Raul\", \"Jose\", 'Anita']"
   ]
  },
  {
   "cell_type": "code",
   "execution_count": 153,
   "id": "fc0efda9-78ab-46dd-a258-ca7003dfe8cd",
   "metadata": {},
   "outputs": [
    {
     "data": {
      "text/plain": [
       "1"
      ]
     },
     "execution_count": 153,
     "metadata": {},
     "output_type": "execute_result"
    }
   ],
   "source": [
    "estudiantes2.count(\"Martin\")"
   ]
  },
  {
   "cell_type": "code",
   "execution_count": 156,
   "id": "8ace6c09-9cfb-42ff-949d-1d83776d1b8d",
   "metadata": {},
   "outputs": [
    {
     "data": {
      "text/plain": [
       "['Anita', 'Jose', 'Jose', 'Martin', 'Raul']"
      ]
     },
     "execution_count": 156,
     "metadata": {},
     "output_type": "execute_result"
    }
   ],
   "source": [
    "estudiantes2.sort()\n",
    "estudiantes2"
   ]
  },
  {
   "cell_type": "code",
   "execution_count": 157,
   "id": "2df3eddd-b296-4706-bec2-0c2e8d73e708",
   "metadata": {},
   "outputs": [
    {
     "data": {
      "text/plain": [
       "['Raul', 'Martin', 'Jose', 'Jose', 'Anita']"
      ]
     },
     "execution_count": 157,
     "metadata": {},
     "output_type": "execute_result"
    }
   ],
   "source": [
    "estudiantes2.reverse()\n",
    "estudiantes2"
   ]
  },
  {
   "cell_type": "code",
   "execution_count": 142,
   "id": "d71ab18d-f729-4f7a-8821-442f1c168f75",
   "metadata": {},
   "outputs": [
    {
     "data": {
      "text/plain": [
       "['Anita', 'Jose', 'Raul', 'Martin']"
      ]
     },
     "execution_count": 142,
     "metadata": {},
     "output_type": "execute_result"
    }
   ],
   "source": [
    "list(set(estudiantes2)) # La función set me regresa los elementos únicos de mi lista"
   ]
  },
  {
   "cell_type": "code",
   "execution_count": 143,
   "id": "601b3899-a624-4abf-ac1d-8c1ac422407a",
   "metadata": {},
   "outputs": [
    {
     "name": "stdout",
     "output_type": "stream",
     "text": [
      "Si tiene duplicados\n"
     ]
    }
   ],
   "source": [
    "if len(estudiantes2) == len(set(estudiantes2)):\n",
    "    print(\"No tiene duplicados\")\n",
    "else:\n",
    "    print(\"Si tiene duplicados\")"
   ]
  },
  {
   "cell_type": "code",
   "execution_count": 144,
   "id": "19c31128-86fb-4b62-9ce1-38124abade00",
   "metadata": {},
   "outputs": [
    {
     "data": {
      "text/plain": [
       "'Anita'"
      ]
     },
     "execution_count": 144,
     "metadata": {},
     "output_type": "execute_result"
    }
   ],
   "source": [
    "ultimoelemento = estudiantes2.pop()\n",
    "ultimoelemento"
   ]
  },
  {
   "cell_type": "code",
   "execution_count": 145,
   "id": "aa141555-e6e0-4045-9ee1-7aeeb3e1f6c4",
   "metadata": {},
   "outputs": [
    {
     "data": {
      "text/plain": [
       "['Martin', 'Jose', 'Raul', 'Jose']"
      ]
     },
     "execution_count": 145,
     "metadata": {},
     "output_type": "execute_result"
    }
   ],
   "source": [
    "estudiantes2"
   ]
  },
  {
   "cell_type": "code",
   "execution_count": 146,
   "id": "04aad63c-29fc-4baa-ba05-279fbd4e2d91",
   "metadata": {},
   "outputs": [],
   "source": [
    "del(estudiantes2[-1])"
   ]
  },
  {
   "cell_type": "code",
   "execution_count": 147,
   "id": "e9f9d950-15bc-4041-a7e6-bd7b2eabfdea",
   "metadata": {},
   "outputs": [
    {
     "data": {
      "text/plain": [
       "['Martin', 'Jose', 'Raul']"
      ]
     },
     "execution_count": 147,
     "metadata": {},
     "output_type": "execute_result"
    }
   ],
   "source": [
    "estudiantes2"
   ]
  },
  {
   "cell_type": "markdown",
   "id": "8843e2c1-fd80-44ad-abbc-050d3a3290c2",
   "metadata": {},
   "source": [
    "# Tuplas"
   ]
  },
  {
   "cell_type": "code",
   "execution_count": 158,
   "id": "b4a975a7-8565-4a35-a704-00cdffa87827",
   "metadata": {},
   "outputs": [],
   "source": [
    "t = (\"a\", \"b\", \"mpilgrim\", \"z\", \"example\")"
   ]
  },
  {
   "cell_type": "code",
   "execution_count": 159,
   "id": "d492cfc9-f56a-4af0-8de2-6fb894bb6c6a",
   "metadata": {},
   "outputs": [
    {
     "data": {
      "text/plain": [
       "('a', 'b', 'mpilgrim')"
      ]
     },
     "execution_count": 159,
     "metadata": {},
     "output_type": "execute_result"
    }
   ],
   "source": [
    "t[0:3]"
   ]
  },
  {
   "cell_type": "code",
   "execution_count": 160,
   "id": "f5ffe53c-5613-4b43-9b28-7956a3028f8b",
   "metadata": {},
   "outputs": [
    {
     "ename": "TypeError",
     "evalue": "'tuple' object does not support item assignment",
     "output_type": "error",
     "traceback": [
      "\u001b[0;31m---------------------------------------------------------------------------\u001b[0m",
      "\u001b[0;31mTypeError\u001b[0m                                 Traceback (most recent call last)",
      "Cell \u001b[0;32mIn[160], line 1\u001b[0m\n\u001b[0;32m----> 1\u001b[0m \u001b[43mt\u001b[49m\u001b[43m[\u001b[49m\u001b[38;5;241;43m3\u001b[39;49m\u001b[43m]\u001b[49m \u001b[38;5;241m=\u001b[39m \u001b[38;5;241m5\u001b[39m\n",
      "\u001b[0;31mTypeError\u001b[0m: 'tuple' object does not support item assignment"
     ]
    }
   ],
   "source": [
    "t[3] = 5"
   ]
  },
  {
   "cell_type": "code",
   "execution_count": 161,
   "id": "464d8871-e1db-48b1-949f-0c5970697829",
   "metadata": {},
   "outputs": [
    {
     "data": {
      "text/plain": [
       "True"
      ]
     },
     "execution_count": 161,
     "metadata": {},
     "output_type": "execute_result"
    }
   ],
   "source": [
    "\"a\" in t "
   ]
  },
  {
   "cell_type": "code",
   "execution_count": 162,
   "id": "c6e5d0d7-271f-4f9a-91e8-193542ef8c03",
   "metadata": {},
   "outputs": [
    {
     "data": {
      "text/plain": [
       "0"
      ]
     },
     "execution_count": 162,
     "metadata": {},
     "output_type": "execute_result"
    }
   ],
   "source": [
    "t.index(\"a\")"
   ]
  },
  {
   "cell_type": "code",
   "execution_count": 163,
   "id": "16d6c431-1228-48b6-ba41-91f572f563ef",
   "metadata": {},
   "outputs": [
    {
     "data": {
      "text/plain": [
       "tuple"
      ]
     },
     "execution_count": 163,
     "metadata": {},
     "output_type": "execute_result"
    }
   ],
   "source": [
    "type(t)"
   ]
  },
  {
   "cell_type": "code",
   "execution_count": 164,
   "id": "e561fd0b-3839-4d04-8fdb-e54e66ff656d",
   "metadata": {},
   "outputs": [
    {
     "data": {
      "text/plain": [
       "['a', 'b', 'mpilgrim', 'z', 'example']"
      ]
     },
     "execution_count": 164,
     "metadata": {},
     "output_type": "execute_result"
    }
   ],
   "source": [
    "list(t)"
   ]
  },
  {
   "cell_type": "code",
   "execution_count": 165,
   "id": "7d65115a-87d6-4050-9088-deb8d7e2abfc",
   "metadata": {},
   "outputs": [
    {
     "data": {
      "text/plain": [
       "('Raul', 'Martin', 'Jose', 'Jose', 'Anita')"
      ]
     },
     "execution_count": 165,
     "metadata": {},
     "output_type": "execute_result"
    }
   ],
   "source": [
    "tuple(estudiantes2)"
   ]
  },
  {
   "cell_type": "code",
   "execution_count": 166,
   "id": "1330f175-4813-4425-95a3-7c620c033e2c",
   "metadata": {},
   "outputs": [
    {
     "data": {
      "text/plain": [
       "'15'"
      ]
     },
     "execution_count": 166,
     "metadata": {},
     "output_type": "execute_result"
    }
   ],
   "source": [
    "str(15)"
   ]
  },
  {
   "cell_type": "code",
   "execution_count": 167,
   "id": "38d576bb-554a-4922-b92f-ad1e1d91670f",
   "metadata": {},
   "outputs": [
    {
     "data": {
      "text/plain": [
       "16"
      ]
     },
     "execution_count": 167,
     "metadata": {},
     "output_type": "execute_result"
    }
   ],
   "source": [
    "int('16')"
   ]
  },
  {
   "cell_type": "code",
   "execution_count": 168,
   "id": "ca68aa33-6457-4ce7-a57c-72c8cdc65116",
   "metadata": {},
   "outputs": [
    {
     "ename": "ValueError",
     "evalue": "invalid literal for int() with base 10: 'hola'",
     "output_type": "error",
     "traceback": [
      "\u001b[0;31m---------------------------------------------------------------------------\u001b[0m",
      "\u001b[0;31mValueError\u001b[0m                                Traceback (most recent call last)",
      "Cell \u001b[0;32mIn[168], line 1\u001b[0m\n\u001b[0;32m----> 1\u001b[0m \u001b[38;5;28;43mint\u001b[39;49m\u001b[43m(\u001b[49m\u001b[38;5;124;43m'\u001b[39;49m\u001b[38;5;124;43mhola\u001b[39;49m\u001b[38;5;124;43m'\u001b[39;49m\u001b[43m)\u001b[49m\n",
      "\u001b[0;31mValueError\u001b[0m: invalid literal for int() with base 10: 'hola'"
     ]
    }
   ],
   "source": [
    "int('hola')"
   ]
  },
  {
   "cell_type": "markdown",
   "id": "096db333-c85f-41d4-bf4c-aa0527c95464",
   "metadata": {},
   "source": [
    "# Diccionario"
   ]
  },
  {
   "cell_type": "code",
   "execution_count": 170,
   "id": "03e0e919-8a32-41e5-8f4f-45e7d2356afc",
   "metadata": {},
   "outputs": [],
   "source": [
    "punto = {'x': 2, 'y': 1, 'z': 4}"
   ]
  },
  {
   "cell_type": "code",
   "execution_count": 171,
   "id": "4b02b390-b418-4a04-b74c-087c11681ed2",
   "metadata": {},
   "outputs": [
    {
     "data": {
      "text/plain": [
       "{'x': 2, 'y': 1, 'z': 4}"
      ]
     },
     "execution_count": 171,
     "metadata": {},
     "output_type": "execute_result"
    }
   ],
   "source": [
    "punto"
   ]
  },
  {
   "cell_type": "code",
   "execution_count": 173,
   "id": "87721f35-ffe8-459d-b746-9e9119243421",
   "metadata": {},
   "outputs": [
    {
     "data": {
      "text/plain": [
       "{}"
      ]
     },
     "execution_count": 173,
     "metadata": {},
     "output_type": "execute_result"
    }
   ],
   "source": [
    "materias = {}\n",
    "materias"
   ]
  },
  {
   "cell_type": "code",
   "execution_count": 174,
   "id": "659634d3-7ae5-4fa3-922e-e4443dae81a1",
   "metadata": {},
   "outputs": [],
   "source": [
    "materias[\"lunes\"] = [6103, 7540]\n",
    "materias[\"martes\"] = [6201]\n",
    "materias[\"miércoles\"] = [6103, 7540]\n",
    "materias[\"jueves\"] = []\n",
    "materias[\"viernes\"] = [6201]"
   ]
  },
  {
   "cell_type": "code",
   "execution_count": 175,
   "id": "0195de1c-5c3d-4e01-a3f5-9ef59a36c382",
   "metadata": {},
   "outputs": [
    {
     "data": {
      "text/plain": [
       "{'lunes': [6103, 7540],\n",
       " 'martes': [6201],\n",
       " 'miércoles': [6103, 7540],\n",
       " 'jueves': [],\n",
       " 'viernes': [6201]}"
      ]
     },
     "execution_count": 175,
     "metadata": {},
     "output_type": "execute_result"
    }
   ],
   "source": [
    "materias"
   ]
  },
  {
   "cell_type": "code",
   "execution_count": 176,
   "id": "88af5fe3-fd6b-48c8-86fd-b6bb12651ae3",
   "metadata": {},
   "outputs": [],
   "source": [
    "materias[\"lunes\"] = [6115]"
   ]
  },
  {
   "cell_type": "code",
   "execution_count": 177,
   "id": "047efbf2-cedb-4909-a8e5-37bf99b0cc30",
   "metadata": {},
   "outputs": [
    {
     "data": {
      "text/plain": [
       "{'lunes': [6115],\n",
       " 'martes': [6201],\n",
       " 'miércoles': [6103, 7540],\n",
       " 'jueves': [],\n",
       " 'viernes': [6201]}"
      ]
     },
     "execution_count": 177,
     "metadata": {},
     "output_type": "execute_result"
    }
   ],
   "source": [
    "materias"
   ]
  },
  {
   "cell_type": "code",
   "execution_count": 178,
   "id": "2a8e9623-35d0-4cb2-9bfb-f4df89c8875e",
   "metadata": {},
   "outputs": [],
   "source": [
    "materias[\"sabado\"] = [19238174]"
   ]
  },
  {
   "cell_type": "code",
   "execution_count": 179,
   "id": "89e89804-8185-4fca-9d96-d5935f497a84",
   "metadata": {},
   "outputs": [
    {
     "data": {
      "text/plain": [
       "{'lunes': [6115],\n",
       " 'martes': [6201],\n",
       " 'miércoles': [6103, 7540],\n",
       " 'jueves': [],\n",
       " 'viernes': [6201],\n",
       " 'sabado': [19238174]}"
      ]
     },
     "execution_count": 179,
     "metadata": {},
     "output_type": "execute_result"
    }
   ],
   "source": [
    "materias"
   ]
  },
  {
   "cell_type": "code",
   "execution_count": 180,
   "id": "0e7b4812-0cdc-4203-addc-b16fb2e8df72",
   "metadata": {},
   "outputs": [],
   "source": [
    "materias.update({ 'domingo':[117236], 'miercolario':[17236736]})"
   ]
  },
  {
   "cell_type": "code",
   "execution_count": 181,
   "id": "0a77d64c-d240-4c3c-80c1-d0cbf6bcb3fe",
   "metadata": {},
   "outputs": [
    {
     "data": {
      "text/plain": [
       "{'lunes': [6115],\n",
       " 'martes': [6201],\n",
       " 'miércoles': [6103, 7540],\n",
       " 'jueves': [],\n",
       " 'viernes': [6201],\n",
       " 'sabado': [19238174],\n",
       " 'domingo': [117236],\n",
       " 'miercolario': [17236736]}"
      ]
     },
     "execution_count": 181,
     "metadata": {},
     "output_type": "execute_result"
    }
   ],
   "source": [
    "materias"
   ]
  },
  {
   "cell_type": "code",
   "execution_count": 182,
   "id": "2c61057d-757b-42ee-9c40-f1911bd20fa2",
   "metadata": {},
   "outputs": [
    {
     "data": {
      "text/plain": [
       "[6115]"
      ]
     },
     "execution_count": 182,
     "metadata": {},
     "output_type": "execute_result"
    }
   ],
   "source": [
    "materias[\"lunes\"]"
   ]
  },
  {
   "cell_type": "code",
   "execution_count": 183,
   "id": "de764bcc-9405-4ae4-9eac-625e06eb7c63",
   "metadata": {},
   "outputs": [
    {
     "data": {
      "text/plain": [
       "[117236]"
      ]
     },
     "execution_count": 183,
     "metadata": {},
     "output_type": "execute_result"
    }
   ],
   "source": [
    "materias.get(\"domingo\")"
   ]
  },
  {
   "cell_type": "code",
   "execution_count": 185,
   "id": "20f74aa7-91f2-4590-89fc-49916abc6d8a",
   "metadata": {},
   "outputs": [
    {
     "data": {
      "text/plain": [
       "'Esa clave no exite'"
      ]
     },
     "execution_count": 185,
     "metadata": {},
     "output_type": "execute_result"
    }
   ],
   "source": [
    "materias.get(\"akwhkishf\", \"Esa clave no exite\")"
   ]
  },
  {
   "cell_type": "code",
   "execution_count": 190,
   "id": "b31807ae-6e13-4351-b553-b44e46ca194f",
   "metadata": {},
   "outputs": [
    {
     "name": "stdout",
     "output_type": "stream",
     "text": [
      "lunes :  [6115]\n",
      "martes :  [6201]\n",
      "miércoles :  [6103, 7540]\n",
      "jueves :  []\n",
      "viernes :  [6201]\n",
      "sabado :  [19238174]\n",
      "domingo :  [117236]\n",
      "miercolario :  [17236736]\n"
     ]
    }
   ],
   "source": [
    "for dia in materias:\n",
    "    print(dia, \": \", materias[dia])\n",
    "    "
   ]
  },
  {
   "cell_type": "code",
   "execution_count": 192,
   "id": "68d7745f-1c74-4042-8143-f54e3fa6215b",
   "metadata": {},
   "outputs": [
    {
     "name": "stdout",
     "output_type": "stream",
     "text": [
      "lunes : [6115]\n",
      "martes : [6201]\n",
      "miércoles : [6103, 7540]\n",
      "jueves : []\n",
      "viernes : [6201]\n",
      "sabado : [19238174]\n",
      "domingo : [117236]\n",
      "miercolario : [17236736]\n"
     ]
    }
   ],
   "source": [
    "for dia, codigos in materias.items():\n",
    "   print(dia, \":\", codigos)"
   ]
  },
  {
   "cell_type": "markdown",
   "id": "9620d10b-6e11-4ebe-bedf-4fcaa7a62b6a",
   "metadata": {},
   "source": [
    "# Funciones"
   ]
  },
  {
   "cell_type": "code",
   "execution_count": 193,
   "id": "ffa2376e-2b46-4d20-a022-ddbb96937649",
   "metadata": {},
   "outputs": [],
   "source": [
    "def saluda():\n",
    "    print(\"Hola chiques\")"
   ]
  },
  {
   "cell_type": "code",
   "execution_count": 194,
   "id": "e198f52c-52f4-486c-8ee7-2402897c9cd9",
   "metadata": {},
   "outputs": [
    {
     "name": "stdout",
     "output_type": "stream",
     "text": [
      "Hola chiques\n"
     ]
    }
   ],
   "source": [
    "saluda()"
   ]
  },
  {
   "cell_type": "markdown",
   "id": "b952a290-d312-4f8d-aeaa-27143d36855a",
   "metadata": {},
   "source": [
    "## Ejemplo función y sin función"
   ]
  },
  {
   "cell_type": "code",
   "execution_count": 195,
   "id": "d5514fdc-9e62-400c-9496-8a71abf3e781",
   "metadata": {},
   "outputs": [],
   "source": [
    "alum = {}"
   ]
  },
  {
   "cell_type": "code",
   "execution_count": 197,
   "id": "3a36ccac-f14d-42ca-9141-367ff2b7c5d7",
   "metadata": {},
   "outputs": [],
   "source": [
    "alum[\"Polo\"]=[\"Leopoldo Estrada\", 27, 'USA']"
   ]
  },
  {
   "cell_type": "code",
   "execution_count": 198,
   "id": "0af0d927-7c51-4d96-a153-647fe7546a05",
   "metadata": {},
   "outputs": [
    {
     "data": {
      "text/plain": [
       "{'Polo': ['Leopoldo Estrada', 27, 'USA']}"
      ]
     },
     "execution_count": 198,
     "metadata": {},
     "output_type": "execute_result"
    }
   ],
   "source": [
    "alum"
   ]
  },
  {
   "cell_type": "code",
   "execution_count": 199,
   "id": "f3593cb5-a33c-47e0-98f3-3735120e83c7",
   "metadata": {},
   "outputs": [],
   "source": [
    "def agrega_alumno(clave, nombre, edad, pais):\n",
    "    lista = [nombre, edad, pais]\n",
    "    alum[clave]=lista"
   ]
  },
  {
   "cell_type": "code",
   "execution_count": 200,
   "id": "6ef6ec57-cdf8-409c-9dbe-f3c29ee8ef11",
   "metadata": {},
   "outputs": [],
   "source": [
    "agrega_alumno(\"Faride\", \"Faride Landeros\", 25, 'Mexico')"
   ]
  },
  {
   "cell_type": "code",
   "execution_count": 201,
   "id": "dd222744-48ee-4fa1-98c8-fb7442bd308a",
   "metadata": {},
   "outputs": [
    {
     "data": {
      "text/plain": [
       "{'Polo': ['Leopoldo Estrada', 27, 'USA'],\n",
       " 'Faride': ['Faride Landeros', 25, 'Mexico']}"
      ]
     },
     "execution_count": 201,
     "metadata": {},
     "output_type": "execute_result"
    }
   ],
   "source": [
    "alum"
   ]
  },
  {
   "cell_type": "code",
   "execution_count": 202,
   "id": "b6bde982-e3c4-4b07-a8c7-bb5e05424820",
   "metadata": {},
   "outputs": [],
   "source": [
    "agrega_alumno(\"Grace\", \"Graciela\", 25, 'Mexico')"
   ]
  },
  {
   "cell_type": "code",
   "execution_count": 203,
   "id": "526f6f7b-3afb-4fc2-bac7-8d3170987e90",
   "metadata": {},
   "outputs": [
    {
     "data": {
      "text/plain": [
       "{'Polo': ['Leopoldo Estrada', 27, 'USA'],\n",
       " 'Faride': ['Faride Landeros', 25, 'Mexico'],\n",
       " 'Grace': ['Graciela', 25, 'Mexico']}"
      ]
     },
     "execution_count": 203,
     "metadata": {},
     "output_type": "execute_result"
    }
   ],
   "source": [
    "alum"
   ]
  },
  {
   "cell_type": "code",
   "execution_count": 204,
   "id": "80b58abd-b648-448e-8902-01822187b8b3",
   "metadata": {},
   "outputs": [],
   "source": [
    "def suma(num1,num2):\n",
    "    return "
   ]
  },
  {
   "cell_type": "code",
   "execution_count": 206,
   "id": "3f5401e4-b012-4399-9953-260aae978df3",
   "metadata": {},
   "outputs": [],
   "source": [
    "def suma2(num1,num2):\n",
    "    resultado = num1 + num2\n",
    "    print(resultado)"
   ]
  },
  {
   "cell_type": "code",
   "execution_count": 205,
   "id": "86c475d2-de51-4f39-b2bb-f40c2a8565c3",
   "metadata": {},
   "outputs": [
    {
     "data": {
      "text/plain": [
       "4"
      ]
     },
     "execution_count": 205,
     "metadata": {},
     "output_type": "execute_result"
    }
   ],
   "source": [
    "suma(2,2)"
   ]
  },
  {
   "cell_type": "code",
   "execution_count": 208,
   "id": "37a2571f-a377-44ce-81ad-d276446748a3",
   "metadata": {},
   "outputs": [
    {
     "name": "stdout",
     "output_type": "stream",
     "text": [
      "6\n"
     ]
    }
   ],
   "source": [
    "suma2(3,3)"
   ]
  },
  {
   "cell_type": "code",
   "execution_count": 212,
   "id": "14d6eaf3-7f73-4637-8bcd-d62c5bc53a85",
   "metadata": {},
   "outputs": [
    {
     "name": "stdout",
     "output_type": "stream",
     "text": [
      "4\n"
     ]
    }
   ],
   "source": [
    "res = suma(2,2)\n",
    "print(res)"
   ]
  },
  {
   "cell_type": "code",
   "execution_count": 213,
   "id": "cdf9c64e-77c3-4bb6-a419-a3c31a06ff26",
   "metadata": {},
   "outputs": [
    {
     "name": "stdout",
     "output_type": "stream",
     "text": [
      "6\n",
      "None\n"
     ]
    }
   ],
   "source": [
    "res2 = suma2(3,3)\n",
    "print(res2)"
   ]
  },
  {
   "cell_type": "code",
   "execution_count": null,
   "id": "6e4cac2f-0c5c-47c0-b465-f326efab503c",
   "metadata": {},
   "outputs": [],
   "source": []
  }
 ],
 "metadata": {
  "kernelspec": {
   "display_name": "Python 3 (ipykernel)",
   "language": "python",
   "name": "python3"
  },
  "language_info": {
   "codemirror_mode": {
    "name": "ipython",
    "version": 3
   },
   "file_extension": ".py",
   "mimetype": "text/x-python",
   "name": "python",
   "nbconvert_exporter": "python",
   "pygments_lexer": "ipython3",
   "version": "3.11.6"
  }
 },
 "nbformat": 4,
 "nbformat_minor": 5
}
