{
 "cells": [
  {
   "cell_type": "code",
   "execution_count": 1,
   "id": "5495656a-1252-43b1-9563-a24e186019c8",
   "metadata": {},
   "outputs": [],
   "source": [
    "#Importar librerias\n",
    "import os\n",
    "import sys"
   ]
  },
  {
   "cell_type": "code",
   "execution_count": 16,
   "id": "54a4fc12-7a65-487d-b7f3-30c722c690dd",
   "metadata": {},
   "outputs": [
    {
     "data": {
      "text/plain": [
       "str"
      ]
     },
     "execution_count": 16,
     "metadata": {},
     "output_type": "execute_result"
    }
   ],
   "source": [
    "# Declaracion variables - Python toma el tipo de variable del dato que está recibiendo.\n",
    "nombre1 = \"Hayde\"\n",
    "type(nombre1)"
   ]
  },
  {
   "cell_type": "code",
   "execution_count": 3,
   "id": "5ae077db-46c8-488e-95d9-8e506c825fd6",
   "metadata": {},
   "outputs": [
    {
     "data": {
      "text/plain": [
       "int"
      ]
     },
     "execution_count": 3,
     "metadata": {},
     "output_type": "execute_result"
    }
   ],
   "source": [
    "numdealumnos = 9\n",
    "type(numdealumnos)"
   ]
  },
  {
   "cell_type": "code",
   "execution_count": 4,
   "id": "90255bbd-e827-4160-aeea-99e3efa07e99",
   "metadata": {},
   "outputs": [
    {
     "data": {
      "text/plain": [
       "float"
      ]
     },
     "execution_count": 4,
     "metadata": {},
     "output_type": "execute_result"
    }
   ],
   "source": [
    "mitadnumalumnos = 4.5\n",
    "type(mitadnumalumnos)"
   ]
  },
  {
   "cell_type": "code",
   "execution_count": 46,
   "id": "df69bd20-ec64-4f4e-b413-118b4dbdce4c",
   "metadata": {},
   "outputs": [
    {
     "data": {
      "text/plain": [
       "list"
      ]
     },
     "execution_count": 46,
     "metadata": {},
     "output_type": "execute_result"
    }
   ],
   "source": [
    "ejemplolista = [1,\n",
    "                2,\n",
    "                3]\n",
    "type(ejemplolista)"
   ]
  },
  {
   "cell_type": "code",
   "execution_count": 6,
   "id": "24bae73f-cb2a-4771-b86b-e70eee43b9b5",
   "metadata": {},
   "outputs": [
    {
     "name": "stdout",
     "output_type": "stream",
     "text": [
      "['Hayde', 9, 4.5, [1, 2, 3]]\n"
     ]
    }
   ],
   "source": [
    "listadevar = [nombre1, numdealumnos, mitadnumalumnos, ejemplolista]\n",
    "print(listadevar)"
   ]
  },
  {
   "cell_type": "markdown",
   "id": "10547ee6-cc3a-42b5-b5c0-3fd9a76a1d8c",
   "metadata": {},
   "source": [
    "# Ejercicio clase 3\n",
    "El día de hoy vamos a terminar de revisar el tema de programación"
   ]
  },
  {
   "cell_type": "code",
   "execution_count": 7,
   "id": "add0c2ab-a0ae-468d-bfcc-61868522b271",
   "metadata": {},
   "outputs": [
    {
     "data": {
      "text/plain": [
       "tuple"
      ]
     },
     "execution_count": 7,
     "metadata": {},
     "output_type": "execute_result"
    }
   ],
   "source": [
    "ejemplotupla = (3, 4, 5)\n",
    "type(ejemplotupla)"
   ]
  },
  {
   "cell_type": "code",
   "execution_count": 8,
   "id": "0dc2da63-a1da-44f2-a871-a33cf758bf76",
   "metadata": {},
   "outputs": [
    {
     "name": "stdout",
     "output_type": "stream",
     "text": [
      "faride\n"
     ]
    }
   ],
   "source": [
    "nombre1 = \"faride\"\n",
    "print(nombre1)"
   ]
  },
  {
   "cell_type": "code",
   "execution_count": 9,
   "id": "76a87cc5-c96f-4d7a-9af8-8e7d88440dbc",
   "metadata": {},
   "outputs": [
    {
     "name": "stdout",
     "output_type": "stream",
     "text": [
      "3\n"
     ]
    }
   ],
   "source": [
    "print(ejemplotupla[0])"
   ]
  },
  {
   "cell_type": "code",
   "execution_count": 48,
   "id": "309860b1-41f6-4525-a12d-a5fa35e560dc",
   "metadata": {},
   "outputs": [
    {
     "ename": "TypeError",
     "evalue": "'tuple' object does not support item assignment",
     "output_type": "error",
     "traceback": [
      "\u001b[0;31m---------------------------------------------------------------------------\u001b[0m",
      "\u001b[0;31mTypeError\u001b[0m                                 Traceback (most recent call last)",
      "Cell \u001b[0;32mIn[48], line 1\u001b[0m\n\u001b[0;32m----> 1\u001b[0m \u001b[43mejemplotupla\u001b[49m\u001b[43m[\u001b[49m\u001b[38;5;241;43m0\u001b[39;49m\u001b[43m]\u001b[49m \u001b[38;5;241m=\u001b[39m \u001b[38;5;241m7\u001b[39m\n",
      "\u001b[0;31mTypeError\u001b[0m: 'tuple' object does not support item assignment"
     ]
    }
   ],
   "source": [
    "ejemplotupla[0] = 7"
   ]
  },
  {
   "cell_type": "code",
   "execution_count": 11,
   "id": "5331cb44-b7f2-41b0-8239-fac23dee97c2",
   "metadata": {},
   "outputs": [
    {
     "name": "stdout",
     "output_type": "stream",
     "text": [
      "1\n"
     ]
    }
   ],
   "source": [
    "print(ejemplolista[0])"
   ]
  },
  {
   "cell_type": "code",
   "execution_count": 12,
   "id": "eacf1abf-8e55-460d-8806-8e70f09a2fdf",
   "metadata": {},
   "outputs": [
    {
     "name": "stdout",
     "output_type": "stream",
     "text": [
      "[7, 2, 3]\n"
     ]
    }
   ],
   "source": [
    "ejemplolista[0] = 7\n",
    "print(ejemplolista)"
   ]
  },
  {
   "cell_type": "code",
   "execution_count": 13,
   "id": "607cb67e-cb46-4dfb-b297-8b310ec69c11",
   "metadata": {},
   "outputs": [
    {
     "name": "stdout",
     "output_type": "stream",
     "text": [
      "{'primera clase': '4 de Mayo', 'Segunda Clase': '11 de Mayo'}\n"
     ]
    }
   ],
   "source": [
    "ejemplodict = { \"primera clase\": \"4 de Mayo\", \"Segunda Clase\":\"11 de Mayo\"}\n",
    "print(ejemplodict)"
   ]
  },
  {
   "cell_type": "code",
   "execution_count": 14,
   "id": "5ffaa47e-2cda-4238-b307-07b5f2ff9043",
   "metadata": {},
   "outputs": [
    {
     "data": {
      "text/plain": [
       "'4 de Mayo'"
      ]
     },
     "execution_count": 14,
     "metadata": {},
     "output_type": "execute_result"
    }
   ],
   "source": [
    "ejemplodict[\"primera clase\"]"
   ]
  },
  {
   "cell_type": "code",
   "execution_count": 15,
   "id": "4353c9bb-26ca-4691-87ae-4c5e8898a59f",
   "metadata": {},
   "outputs": [
    {
     "data": {
      "text/plain": [
       "{'clave': 'valor', 'numero': 1}"
      ]
     },
     "execution_count": 15,
     "metadata": {},
     "output_type": "execute_result"
    }
   ],
   "source": [
    "dictionary = {\"clave\":  \"valor\", \"numero\":1}\n",
    "dictionary"
   ]
  },
  {
   "cell_type": "markdown",
   "id": "45a9d0b8-12f2-4700-a8c0-1ff4f5f39c83",
   "metadata": {},
   "source": [
    "# Clase 3 "
   ]
  },
  {
   "cell_type": "code",
   "execution_count": 22,
   "id": "b02c12ae-dc43-4510-8186-faa85a5bc7bb",
   "metadata": {},
   "outputs": [],
   "source": [
    "VARIABLe = 3"
   ]
  },
  {
   "cell_type": "code",
   "execution_count": 23,
   "id": "59ddbd70-4867-4907-8a9d-11fed68f7c7c",
   "metadata": {},
   "outputs": [],
   "source": [
    "VAriaBLE = 5"
   ]
  },
  {
   "cell_type": "code",
   "execution_count": 24,
   "id": "0c54becd-f72d-4d50-8af0-f0ac867bd234",
   "metadata": {},
   "outputs": [
    {
     "data": {
      "text/plain": [
       "False"
      ]
     },
     "execution_count": 24,
     "metadata": {},
     "output_type": "execute_result"
    }
   ],
   "source": [
    "VARIABLe == VAriaBLE"
   ]
  },
  {
   "cell_type": "code",
   "execution_count": 33,
   "id": "a2462557-0775-40e2-8d48-68f33eb2b861",
   "metadata": {},
   "outputs": [
    {
     "data": {
      "text/plain": [
       "'hola'"
      ]
     },
     "execution_count": 33,
     "metadata": {},
     "output_type": "execute_result"
    }
   ],
   "source": [
    "var1 = \"hola\"\n",
    "var1"
   ]
  },
  {
   "cell_type": "code",
   "execution_count": 34,
   "id": "08040930-af63-4b20-9384-711a674a076f",
   "metadata": {},
   "outputs": [],
   "source": [
    "del(var1)"
   ]
  },
  {
   "cell_type": "code",
   "execution_count": 35,
   "id": "1993f316-4a78-418f-b8c2-50b524651327",
   "metadata": {},
   "outputs": [
    {
     "ename": "NameError",
     "evalue": "name 'var1' is not defined",
     "output_type": "error",
     "traceback": [
      "\u001b[0;31m---------------------------------------------------------------------------\u001b[0m",
      "\u001b[0;31mNameError\u001b[0m                                 Traceback (most recent call last)",
      "Cell \u001b[0;32mIn[35], line 1\u001b[0m\n\u001b[0;32m----> 1\u001b[0m \u001b[43mvar1\u001b[49m\n",
      "\u001b[0;31mNameError\u001b[0m: name 'var1' is not defined"
     ]
    }
   ],
   "source": [
    "var1"
   ]
  },
  {
   "cell_type": "code",
   "execution_count": 36,
   "id": "9e1ff725-013d-4ba9-9dd0-e1dfa69599bf",
   "metadata": {},
   "outputs": [
    {
     "data": {
      "text/plain": [
       "True"
      ]
     },
     "execution_count": 36,
     "metadata": {},
     "output_type": "execute_result"
    }
   ],
   "source": [
    "4.5 in listadevar"
   ]
  },
  {
   "cell_type": "code",
   "execution_count": 37,
   "id": "5dab058f-be15-4142-9eed-f7841f3c0070",
   "metadata": {},
   "outputs": [
    {
     "data": {
      "text/plain": [
       "['Hayde', 9, 4.5, [7, 2, 3]]"
      ]
     },
     "execution_count": 37,
     "metadata": {},
     "output_type": "execute_result"
    }
   ],
   "source": [
    "listadevar"
   ]
  },
  {
   "cell_type": "code",
   "execution_count": 38,
   "id": "5a17100b-6dcc-493d-acdf-fc8546ca2ed3",
   "metadata": {},
   "outputs": [
    {
     "data": {
      "text/plain": [
       "False"
      ]
     },
     "execution_count": 38,
     "metadata": {},
     "output_type": "execute_result"
    }
   ],
   "source": [
    "8 in listadevar"
   ]
  },
  {
   "cell_type": "code",
   "execution_count": 39,
   "id": "e8cef064-f860-427b-99e7-0dc47564fff7",
   "metadata": {},
   "outputs": [
    {
     "data": {
      "text/plain": [
       "True"
      ]
     },
     "execution_count": 39,
     "metadata": {},
     "output_type": "execute_result"
    }
   ],
   "source": [
    "8 not in listadevar"
   ]
  },
  {
   "cell_type": "code",
   "execution_count": 45,
   "id": "cd0d3a02-18f3-4136-9eb8-d91683c1e30d",
   "metadata": {},
   "outputs": [
    {
     "name": "stdout",
     "output_type": "stream",
     "text": [
      "No está el 8 en la lista\n"
     ]
    }
   ],
   "source": [
    "if 8 not in listadevar:\n",
    "    print(\"No está el 8 en la lista\")\n",
    "else:\n",
    "    print(\"Si está en la lista\")"
   ]
  },
  {
   "cell_type": "code",
   "execution_count": 50,
   "id": "049305b6-69f3-4cb6-bc8f-6b9cc9de70ab",
   "metadata": {},
   "outputs": [],
   "source": [
    "num1 = 8\n",
    "num2 = 9\n",
    "num3 = 10"
   ]
  },
  {
   "cell_type": "code",
   "execution_count": 52,
   "id": "1d83ee61-88c4-4799-af43-d6bba6b12e23",
   "metadata": {},
   "outputs": [
    {
     "ename": "SyntaxError",
     "evalue": "invalid syntax (485141920.py, line 1)",
     "output_type": "error",
     "traceback": [
      "\u001b[0;36m  Cell \u001b[0;32mIn[52], line 1\u001b[0;36m\u001b[0m\n\u001b[0;31m    total = num1 +\u001b[0m\n\u001b[0m                   ^\u001b[0m\n\u001b[0;31mSyntaxError\u001b[0m\u001b[0;31m:\u001b[0m invalid syntax\n"
     ]
    }
   ],
   "source": [
    "total = num1 + \\\n",
    "        num2 + \\\n",
    "        num3\n",
    "total"
   ]
  },
  {
   "cell_type": "code",
   "execution_count": null,
   "id": "23adab4c-c078-41b6-9ff9-4af209222785",
   "metadata": {},
   "outputs": [],
   "source": []
  }
 ],
 "metadata": {
  "kernelspec": {
   "display_name": "Python 3 (ipykernel)",
   "language": "python",
   "name": "python3"
  },
  "language_info": {
   "codemirror_mode": {
    "name": "ipython",
    "version": 3
   },
   "file_extension": ".py",
   "mimetype": "text/x-python",
   "name": "python",
   "nbconvert_exporter": "python",
   "pygments_lexer": "ipython3",
   "version": "3.11.6"
  }
 },
 "nbformat": 4,
 "nbformat_minor": 5
}
