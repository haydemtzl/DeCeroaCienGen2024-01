{
 "cells": [
  {
   "cell_type": "code",
   "execution_count": 3,
   "id": "5495656a-1252-43b1-9563-a24e186019c8",
   "metadata": {},
   "outputs": [],
   "source": [
    "#Importar librerias\n",
    "import os\n",
    "import sys"
   ]
  },
  {
   "cell_type": "code",
   "execution_count": 11,
   "id": "54a4fc12-7a65-487d-b7f3-30c722c690dd",
   "metadata": {},
   "outputs": [
    {
     "data": {
      "text/plain": [
       "str"
      ]
     },
     "execution_count": 11,
     "metadata": {},
     "output_type": "execute_result"
    }
   ],
   "source": [
    "# Declaracion variables - Python toma el tipo de variable del dato que está recibiendo.\n",
    "nombre1 = \"Hayde\"\n",
    "type(nombre1)"
   ]
  },
  {
   "cell_type": "code",
   "execution_count": 12,
   "id": "5ae077db-46c8-488e-95d9-8e506c825fd6",
   "metadata": {},
   "outputs": [
    {
     "data": {
      "text/plain": [
       "int"
      ]
     },
     "execution_count": 12,
     "metadata": {},
     "output_type": "execute_result"
    }
   ],
   "source": [
    "numdealumnos = 9\n",
    "type(numdealumnos)"
   ]
  },
  {
   "cell_type": "code",
   "execution_count": 13,
   "id": "90255bbd-e827-4160-aeea-99e3efa07e99",
   "metadata": {},
   "outputs": [
    {
     "data": {
      "text/plain": [
       "float"
      ]
     },
     "execution_count": 13,
     "metadata": {},
     "output_type": "execute_result"
    }
   ],
   "source": [
    "mitadnumalumnos = 4.5\n",
    "type(mitadnumalumnos)"
   ]
  },
  {
   "cell_type": "code",
   "execution_count": 15,
   "id": "df69bd20-ec64-4f4e-b413-118b4dbdce4c",
   "metadata": {},
   "outputs": [
    {
     "data": {
      "text/plain": [
       "list"
      ]
     },
     "execution_count": 15,
     "metadata": {},
     "output_type": "execute_result"
    }
   ],
   "source": [
    "ejemplolista = [1,2,3]\n",
    "type(ejemplolista)"
   ]
  },
  {
   "cell_type": "code",
   "execution_count": 17,
   "id": "24bae73f-cb2a-4771-b86b-e70eee43b9b5",
   "metadata": {},
   "outputs": [
    {
     "name": "stdout",
     "output_type": "stream",
     "text": [
      "['Hayde', 9, 4.5, [1, 2, 3]]\n"
     ]
    }
   ],
   "source": [
    "listadevar = [nombre1, numdealumnos, mitadnumalumnos, ejemplolista]\n",
    "print(listadevar)"
   ]
  },
  {
   "cell_type": "code",
   "execution_count": 18,
   "id": "add0c2ab-a0ae-468d-bfcc-61868522b271",
   "metadata": {},
   "outputs": [
    {
     "data": {
      "text/plain": [
       "tuple"
      ]
     },
     "execution_count": 18,
     "metadata": {},
     "output_type": "execute_result"
    }
   ],
   "source": [
    "ejemplotupla = (3, 4, 5)\n",
    "type(ejemplotupla)"
   ]
  },
  {
   "cell_type": "code",
   "execution_count": 19,
   "id": "0dc2da63-a1da-44f2-a871-a33cf758bf76",
   "metadata": {},
   "outputs": [
    {
     "name": "stdout",
     "output_type": "stream",
     "text": [
      "faride\n"
     ]
    }
   ],
   "source": [
    "nombre1 = \"faride\"\n",
    "print(nombre1)"
   ]
  },
  {
   "cell_type": "code",
   "execution_count": 20,
   "id": "76a87cc5-c96f-4d7a-9af8-8e7d88440dbc",
   "metadata": {},
   "outputs": [
    {
     "name": "stdout",
     "output_type": "stream",
     "text": [
      "3\n"
     ]
    }
   ],
   "source": [
    "print(ejemplotupla[0])"
   ]
  },
  {
   "cell_type": "code",
   "execution_count": 21,
   "id": "309860b1-41f6-4525-a12d-a5fa35e560dc",
   "metadata": {},
   "outputs": [
    {
     "ename": "TypeError",
     "evalue": "'tuple' object does not support item assignment",
     "output_type": "error",
     "traceback": [
      "\u001b[0;31m---------------------------------------------------------------------------\u001b[0m",
      "\u001b[0;31mTypeError\u001b[0m                                 Traceback (most recent call last)",
      "Cell \u001b[0;32mIn[21], line 1\u001b[0m\n\u001b[0;32m----> 1\u001b[0m \u001b[43mejemplotupla\u001b[49m\u001b[43m[\u001b[49m\u001b[38;5;241;43m0\u001b[39;49m\u001b[43m]\u001b[49m \u001b[38;5;241m=\u001b[39m \u001b[38;5;241m7\u001b[39m\n",
      "\u001b[0;31mTypeError\u001b[0m: 'tuple' object does not support item assignment"
     ]
    }
   ],
   "source": [
    "ejemplotupla[0] = 7"
   ]
  },
  {
   "cell_type": "code",
   "execution_count": 22,
   "id": "5331cb44-b7f2-41b0-8239-fac23dee97c2",
   "metadata": {},
   "outputs": [
    {
     "name": "stdout",
     "output_type": "stream",
     "text": [
      "1\n"
     ]
    }
   ],
   "source": [
    "print(ejemplolista[0])"
   ]
  },
  {
   "cell_type": "code",
   "execution_count": 23,
   "id": "eacf1abf-8e55-460d-8806-8e70f09a2fdf",
   "metadata": {},
   "outputs": [
    {
     "name": "stdout",
     "output_type": "stream",
     "text": [
      "[7, 2, 3]\n"
     ]
    }
   ],
   "source": [
    "ejemplolista[0] = 7\n",
    "print(ejemplolista)"
   ]
  },
  {
   "cell_type": "code",
   "execution_count": 25,
   "id": "607cb67e-cb46-4dfb-b297-8b310ec69c11",
   "metadata": {},
   "outputs": [
    {
     "name": "stdout",
     "output_type": "stream",
     "text": [
      "{'primera clase': '4 de Mayo', 'Segunda Clase': '11 de Mayo'}\n"
     ]
    }
   ],
   "source": [
    "ejemplodict = { \"primera clase\": \"4 de Mayo\", \"Segunda Clase\":\"11 de Mayo\"}\n",
    "print(ejemplodict)"
   ]
  },
  {
   "cell_type": "code",
   "execution_count": 26,
   "id": "5ffaa47e-2cda-4238-b307-07b5f2ff9043",
   "metadata": {},
   "outputs": [
    {
     "data": {
      "text/plain": [
       "'4 de Mayo'"
      ]
     },
     "execution_count": 26,
     "metadata": {},
     "output_type": "execute_result"
    }
   ],
   "source": [
    "ejemplodict[\"primera clase\"]"
   ]
  },
  {
   "cell_type": "code",
   "execution_count": 27,
   "id": "4353c9bb-26ca-4691-87ae-4c5e8898a59f",
   "metadata": {},
   "outputs": [
    {
     "data": {
      "text/plain": [
       "{'clave': 'valor', 'numero': 1}"
      ]
     },
     "execution_count": 27,
     "metadata": {},
     "output_type": "execute_result"
    }
   ],
   "source": [
    "dictionary = {\"clave\":  \"valor\", \"numero\":1}\n",
    "dictionary"
   ]
  },
  {
   "cell_type": "code",
   "execution_count": null,
   "id": "cee59f85-306c-4757-b5d0-996468e7e8f2",
   "metadata": {},
   "outputs": [],
   "source": []
  }
 ],
 "metadata": {
  "kernelspec": {
   "display_name": "Python 3 (ipykernel)",
   "language": "python",
   "name": "python3"
  },
  "language_info": {
   "codemirror_mode": {
    "name": "ipython",
    "version": 3
   },
   "file_extension": ".py",
   "mimetype": "text/x-python",
   "name": "python",
   "nbconvert_exporter": "python",
   "pygments_lexer": "ipython3",
   "version": "3.11.6"
  }
 },
 "nbformat": 4,
 "nbformat_minor": 5
}
