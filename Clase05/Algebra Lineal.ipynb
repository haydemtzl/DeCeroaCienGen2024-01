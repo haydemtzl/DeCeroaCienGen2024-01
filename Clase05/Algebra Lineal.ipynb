{
 "cells": [
  {
   "cell_type": "markdown",
   "id": "ce2da887",
   "metadata": {},
   "source": [
    "Vectores y operaciones"
   ]
  },
  {
   "cell_type": "code",
   "execution_count": 5,
   "id": "5564cc4f",
   "metadata": {},
   "outputs": [
    {
     "data": {
      "text/plain": [
       "[1, 2, 3, 4, 5, 6]"
      ]
     },
     "execution_count": 5,
     "metadata": {},
     "output_type": "execute_result"
    }
   ],
   "source": [
    "# Vectores\n",
    "# Creando un vector con una lista simple de python\n",
    "\n",
    "v1py = [1, 2, 3]\n",
    "v2py = [4, 5, 6]\n",
    "\n",
    "v1py + v2py"
   ]
  },
  {
   "cell_type": "code",
   "execution_count": 6,
   "id": "f716784f",
   "metadata": {},
   "outputs": [
    {
     "data": {
      "text/plain": [
       "[1, 2, 3, 1, 2, 3, 1, 2, 3, 1, 2, 3, 1, 2, 3, 1, 2, 3, 1, 2, 3]"
      ]
     },
     "execution_count": 6,
     "metadata": {},
     "output_type": "execute_result"
    }
   ],
   "source": [
    "7 * v1py"
   ]
  },
  {
   "cell_type": "code",
   "execution_count": 7,
   "id": "e5f905be",
   "metadata": {},
   "outputs": [],
   "source": [
    "# Importar numpy que es la librería matemática que me permite utilizar los objetos de algebra\n",
    "import numpy as np"
   ]
  },
  {
   "cell_type": "code",
   "execution_count": 8,
   "id": "83d48573",
   "metadata": {},
   "outputs": [],
   "source": [
    "# Crear un array de numpy \n",
    "v1np = np.array(v1py) # np.array([1,2,3])\n",
    "v2np = np.array(v2py) # np.array([4,5,6])"
   ]
  },
  {
   "cell_type": "code",
   "execution_count": 9,
   "id": "be9dd1d2",
   "metadata": {},
   "outputs": [
    {
     "data": {
      "text/plain": [
       "array([5, 7, 9])"
      ]
     },
     "execution_count": 9,
     "metadata": {},
     "output_type": "execute_result"
    }
   ],
   "source": [
    "# Sumando vectores\n",
    "v1np + v2np"
   ]
  },
  {
   "cell_type": "code",
   "execution_count": 10,
   "id": "41a1d554",
   "metadata": {},
   "outputs": [
    {
     "data": {
      "text/plain": [
       "array([-3, -3, -3])"
      ]
     },
     "execution_count": 10,
     "metadata": {},
     "output_type": "execute_result"
    }
   ],
   "source": [
    "# Restando vectores\n",
    "v1np - v2np"
   ]
  },
  {
   "cell_type": "code",
   "execution_count": 11,
   "id": "1153052b",
   "metadata": {},
   "outputs": [
    {
     "data": {
      "text/plain": [
       "array([ 7, 14, 21])"
      ]
     },
     "execution_count": 11,
     "metadata": {},
     "output_type": "execute_result"
    }
   ],
   "source": [
    "# Multiplicación por escalar\n",
    "7 * v1np"
   ]
  },
  {
   "cell_type": "code",
   "execution_count": 14,
   "id": "104feff2",
   "metadata": {},
   "outputs": [
    {
     "data": {
      "text/plain": [
       "array([1., 1., 1., 1., 1., 1., 1., 1., 1., 1.])"
      ]
     },
     "execution_count": 14,
     "metadata": {},
     "output_type": "execute_result"
    }
   ],
   "source": [
    "# Funcion para crear vectores o arrays con 1's\n",
    "vunos = np.ones(10)\n",
    "vunos"
   ]
  },
  {
   "cell_type": "code",
   "execution_count": 20,
   "id": "56ad4a57",
   "metadata": {},
   "outputs": [
    {
     "data": {
      "text/plain": [
       "array([1, 2, 3])"
      ]
     },
     "execution_count": 20,
     "metadata": {},
     "output_type": "execute_result"
    }
   ],
   "source": [
    "#Crear arreglos de numpy por rango\n",
    "vrange = np.arange(1,4)\n",
    "vrange"
   ]
  },
  {
   "cell_type": "code",
   "execution_count": 21,
   "id": "d4532752",
   "metadata": {},
   "outputs": [
    {
     "data": {
      "text/plain": [
       "32"
      ]
     },
     "execution_count": 21,
     "metadata": {},
     "output_type": "execute_result"
    }
   ],
   "source": [
    "#Producto punto en numpy\n",
    "np.dot(v1np,v2np)"
   ]
  },
  {
   "cell_type": "code",
   "execution_count": 22,
   "id": "134c4696",
   "metadata": {},
   "outputs": [
    {
     "data": {
      "text/plain": [
       "32"
      ]
     },
     "execution_count": 22,
     "metadata": {},
     "output_type": "execute_result"
    }
   ],
   "source": [
    "#Producto punto con sum (función nativa de python)\n",
    "sum(v1np * v2np)"
   ]
  },
  {
   "cell_type": "code",
   "execution_count": 23,
   "id": "2601aaa3",
   "metadata": {},
   "outputs": [
    {
     "data": {
      "text/plain": [
       "0"
      ]
     },
     "execution_count": 23,
     "metadata": {},
     "output_type": "execute_result"
    }
   ],
   "source": [
    "# Ejemplo de vectores ortogonales o perpendiculares\n",
    "\n",
    "v1 = np.array([3,4])\n",
    "v2 = np.array([4,-3])\n",
    "\n",
    "np.dot(v1,v2)"
   ]
  },
  {
   "cell_type": "code",
   "execution_count": 24,
   "id": "58a460a1",
   "metadata": {},
   "outputs": [
    {
     "data": {
      "text/plain": [
       "9.16515138991168"
      ]
     },
     "execution_count": 24,
     "metadata": {},
     "output_type": "execute_result"
    }
   ],
   "source": [
    "# Ejemplo calculo norma del vector\n",
    "\n",
    "v3 = [3,7,5,1]\n",
    "np.linalg.norm(v3)"
   ]
  },
  {
   "cell_type": "markdown",
   "id": "b18f5570",
   "metadata": {},
   "source": [
    "Matrices - suma, resta y multiplicación por escalar"
   ]
  },
  {
   "cell_type": "code",
   "execution_count": 25,
   "id": "db2ce837",
   "metadata": {},
   "outputs": [],
   "source": [
    "A = np.array([[1, 3, 2],  #Para crear matrices van dentro de una lista \n",
    "              [1, 0, 0],  # y son listas separadas por comas\n",
    "              [1, 2, 2]])"
   ]
  },
  {
   "cell_type": "code",
   "execution_count": 26,
   "id": "e1408e19",
   "metadata": {},
   "outputs": [],
   "source": [
    "B = np.array([[1, 0, 5],\n",
    "              [7, 5, 0],\n",
    "              [2, 1, 1]])"
   ]
  },
  {
   "cell_type": "code",
   "execution_count": 27,
   "id": "05c0cb12",
   "metadata": {},
   "outputs": [
    {
     "data": {
      "text/plain": [
       "array([[2, 3, 7],\n",
       "       [8, 5, 0],\n",
       "       [3, 3, 3]])"
      ]
     },
     "execution_count": 27,
     "metadata": {},
     "output_type": "execute_result"
    }
   ],
   "source": [
    "# Suma de matrices\n",
    "A + B"
   ]
  },
  {
   "cell_type": "code",
   "execution_count": 28,
   "id": "afc8e7c5",
   "metadata": {},
   "outputs": [
    {
     "data": {
      "text/plain": [
       "array([[ 0,  3, -3],\n",
       "       [-6, -5,  0],\n",
       "       [-1,  1,  1]])"
      ]
     },
     "execution_count": 28,
     "metadata": {},
     "output_type": "execute_result"
    }
   ],
   "source": [
    "# Resta de matrices\n",
    "A - B"
   ]
  },
  {
   "cell_type": "code",
   "execution_count": 29,
   "id": "81710be3",
   "metadata": {},
   "outputs": [
    {
     "data": {
      "text/plain": [
       "array([[ 5, 15, 10],\n",
       "       [ 5,  0,  0],\n",
       "       [ 5, 10, 10]])"
      ]
     },
     "execution_count": 29,
     "metadata": {},
     "output_type": "execute_result"
    }
   ],
   "source": [
    "# Multiplicacion de matriz por escalar\n",
    "A * 5"
   ]
  },
  {
   "cell_type": "code",
   "execution_count": 30,
   "id": "dcb08b4f",
   "metadata": {},
   "outputs": [
    {
     "data": {
      "text/plain": [
       "(3, 3)"
      ]
     },
     "execution_count": 30,
     "metadata": {},
     "output_type": "execute_result"
    }
   ],
   "source": [
    "# Para ver la dimension (renglones x columnas) de mi matriz\n",
    "A.shape"
   ]
  },
  {
   "cell_type": "code",
   "execution_count": 31,
   "id": "1c0da223",
   "metadata": {},
   "outputs": [
    {
     "data": {
      "text/plain": [
       "9"
      ]
     },
     "execution_count": 31,
     "metadata": {},
     "output_type": "execute_result"
    }
   ],
   "source": [
    "# Para ver el número de elementos\n",
    "A.size"
   ]
  },
  {
   "cell_type": "markdown",
   "id": "f43274ee",
   "metadata": {},
   "source": [
    "Multiplicación de matrices"
   ]
  },
  {
   "cell_type": "code",
   "execution_count": 47,
   "id": "5ca760a5",
   "metadata": {},
   "outputs": [
    {
     "data": {
      "text/plain": [
       "array([[ 1,  2,  3,  4],\n",
       "       [ 5,  6,  7,  8],\n",
       "       [ 9, 10, 11, 12]])"
      ]
     },
     "execution_count": 47,
     "metadata": {},
     "output_type": "execute_result"
    }
   ],
   "source": [
    "A = np.arange(1, 13).reshape(3, 4) #Aqui le digo que cree una matriz en el rango del 1 hasta < 13\n",
    "A                                  # Y con reshape le digo que me la acomode como matriz de 3*4"
   ]
  },
  {
   "cell_type": "code",
   "execution_count": 41,
   "id": "c16a6993",
   "metadata": {},
   "outputs": [
    {
     "data": {
      "text/plain": [
       "array([[0, 1],\n",
       "       [2, 3],\n",
       "       [4, 5],\n",
       "       [6, 7]])"
      ]
     },
     "execution_count": 41,
     "metadata": {},
     "output_type": "execute_result"
    }
   ],
   "source": [
    "B = np.arange(8).reshape(4,2) \n",
    "B"
   ]
  },
  {
   "cell_type": "code",
   "execution_count": 42,
   "id": "e4dcdf42",
   "metadata": {},
   "outputs": [
    {
     "data": {
      "text/plain": [
       "array([[ 40,  50],\n",
       "       [ 88, 114],\n",
       "       [136, 178]])"
      ]
     },
     "execution_count": 42,
     "metadata": {},
     "output_type": "execute_result"
    }
   ],
   "source": [
    "A @ B #El arroba es el simbolo en python numpy para realizar la multiplicación de matrices"
   ]
  },
  {
   "cell_type": "code",
   "execution_count": 43,
   "id": "a428c5f9",
   "metadata": {},
   "outputs": [
    {
     "data": {
      "text/plain": [
       "array([[1., 0.],\n",
       "       [0., 1.]])"
      ]
     },
     "execution_count": 43,
     "metadata": {},
     "output_type": "execute_result"
    }
   ],
   "source": [
    "#Matriz identidad\n",
    "I = np.eye(2) #Funcion que me permite crear matrices identidad \n",
    "I             # El parametro que recibe es el numero de r y c"
   ]
  },
  {
   "cell_type": "code",
   "execution_count": 44,
   "id": "46e5eebd",
   "metadata": {},
   "outputs": [
    {
     "data": {
      "text/plain": [
       "array([[4, 7],\n",
       "       [2, 6]])"
      ]
     },
     "execution_count": 44,
     "metadata": {},
     "output_type": "execute_result"
    }
   ],
   "source": [
    "C = np.array([[4,7],\n",
    "              [2,6]])\n",
    "C"
   ]
  },
  {
   "cell_type": "code",
   "execution_count": 45,
   "id": "5c149775",
   "metadata": {},
   "outputs": [
    {
     "data": {
      "text/plain": [
       "array([[4., 7.],\n",
       "       [2., 6.]])"
      ]
     },
     "execution_count": 45,
     "metadata": {},
     "output_type": "execute_result"
    }
   ],
   "source": [
    "I @ C"
   ]
  },
  {
   "cell_type": "code",
   "execution_count": 48,
   "id": "b3e0bc64",
   "metadata": {},
   "outputs": [],
   "source": [
    "A = np.array([[1,2,3],\n",
    "              [4,5,6],\n",
    "              [7,8,9]])"
   ]
  },
  {
   "cell_type": "code",
   "execution_count": 49,
   "id": "50fa3b04",
   "metadata": {},
   "outputs": [
    {
     "data": {
      "text/plain": [
       "0.0"
      ]
     },
     "execution_count": 49,
     "metadata": {},
     "output_type": "execute_result"
    }
   ],
   "source": [
    "# Calculo del determinante de una matriz (solo funciona en matrices cuadradas)\n",
    "np.linalg.det(A)"
   ]
  },
  {
   "cell_type": "code",
   "execution_count": 50,
   "id": "363e7f3f",
   "metadata": {},
   "outputs": [
    {
     "data": {
      "text/plain": [
       "array([[0, 1],\n",
       "       [2, 3],\n",
       "       [4, 5]])"
      ]
     },
     "execution_count": 50,
     "metadata": {},
     "output_type": "execute_result"
    }
   ],
   "source": [
    "# Matriz transpuesta\n",
    "A = np.arange(6).reshape(3, 2)\n",
    "A"
   ]
  },
  {
   "cell_type": "code",
   "execution_count": 51,
   "id": "1241f960",
   "metadata": {},
   "outputs": [
    {
     "data": {
      "text/plain": [
       "array([[0, 2, 4],\n",
       "       [1, 3, 5]])"
      ]
     },
     "execution_count": 51,
     "metadata": {},
     "output_type": "execute_result"
    }
   ],
   "source": [
    "np.transpose(A)"
   ]
  },
  {
   "cell_type": "code",
   "execution_count": 52,
   "id": "f2995b7b",
   "metadata": {},
   "outputs": [],
   "source": [
    "# Matriz inversa\n",
    "A = np.array([[4, 7],\n",
    "              [2, 6]])"
   ]
  },
  {
   "cell_type": "code",
   "execution_count": 53,
   "id": "2699bfdc",
   "metadata": {},
   "outputs": [
    {
     "data": {
      "text/plain": [
       "array([[ 0.6, -0.7],\n",
       "       [-0.2,  0.4]])"
      ]
     },
     "execution_count": 53,
     "metadata": {},
     "output_type": "execute_result"
    }
   ],
   "source": [
    "inv = np.linalg.inv(A)\n",
    "inv"
   ]
  },
  {
   "cell_type": "code",
   "execution_count": null,
   "id": "be895514",
   "metadata": {},
   "outputs": [],
   "source": []
  }
 ],
 "metadata": {
  "kernelspec": {
   "display_name": "Python 3 (ipykernel)",
   "language": "python",
   "name": "python3"
  },
  "language_info": {
   "codemirror_mode": {
    "name": "ipython",
    "version": 3
   },
   "file_extension": ".py",
   "mimetype": "text/x-python",
   "name": "python",
   "nbconvert_exporter": "python",
   "pygments_lexer": "ipython3",
   "version": "3.7.3"
  }
 },
 "nbformat": 4,
 "nbformat_minor": 5
}
