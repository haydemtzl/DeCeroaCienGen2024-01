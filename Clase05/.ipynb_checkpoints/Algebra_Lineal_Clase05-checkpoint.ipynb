{
 "cells": [
  {
   "cell_type": "markdown",
   "id": "0f0e64ec-dffa-48ce-8520-0885fe831d91",
   "metadata": {},
   "source": [
    "# Vectores y sus operaciones"
   ]
  },
  {
   "cell_type": "code",
   "execution_count": 1,
   "id": "9382dc21-35b6-44dc-a3c0-8fd4b6585629",
   "metadata": {},
   "outputs": [
    {
     "data": {
      "text/plain": [
       "[1, 2, 3, 4, 5, 6]"
      ]
     },
     "execution_count": 1,
     "metadata": {},
     "output_type": "execute_result"
    }
   ],
   "source": [
    "# Vectores\n",
    "# Crear un vector con una lista simple de python\n",
    "\n",
    "v1py = [1,2,3]\n",
    "v2py = [4,5,6]\n",
    "\n",
    "v1py + v2py"
   ]
  },
  {
   "cell_type": "code",
   "execution_count": 2,
   "id": "fcbdcd24-58d7-4100-b5d5-e8691f5c7b11",
   "metadata": {},
   "outputs": [
    {
     "data": {
      "text/plain": [
       "[1, 2, 3, 1, 2, 3, 1, 2, 3, 1, 2, 3, 1, 2, 3, 1, 2, 3, 1, 2, 3]"
      ]
     },
     "execution_count": 2,
     "metadata": {},
     "output_type": "execute_result"
    }
   ],
   "source": [
    "7 * v1py"
   ]
  },
  {
   "cell_type": "code",
   "execution_count": 4,
   "id": "6232eb5f-428e-46bd-adcd-3b89b5c456b9",
   "metadata": {},
   "outputs": [],
   "source": [
    "# Importar numpy que es la libreria matematica que me permite utilizar los objetos algebraicos.\n",
    "import numpy as np"
   ]
  },
  {
   "cell_type": "code",
   "execution_count": 5,
   "id": "8b86fc3b-a6e4-4274-a2d9-cf493a3ca457",
   "metadata": {},
   "outputs": [],
   "source": [
    "# Crear un array de numpy\n",
    "v1np = np.array(v1py) # np.array([1,2,3])\n",
    "v2np = np.array(v2py) # np.array([4,5,6])"
   ]
  },
  {
   "cell_type": "code",
   "execution_count": 6,
   "id": "28679bf1-5925-481a-86e4-5507dea03149",
   "metadata": {},
   "outputs": [
    {
     "data": {
      "text/plain": [
       "array([5, 7, 9])"
      ]
     },
     "execution_count": 6,
     "metadata": {},
     "output_type": "execute_result"
    }
   ],
   "source": [
    "# Suma de vectores\n",
    "v1np + v2np"
   ]
  },
  {
   "cell_type": "code",
   "execution_count": 7,
   "id": "f56543f8-f473-48c0-ba82-4fd88e8181dd",
   "metadata": {},
   "outputs": [
    {
     "data": {
      "text/plain": [
       "array([-3, -3, -3])"
      ]
     },
     "execution_count": 7,
     "metadata": {},
     "output_type": "execute_result"
    }
   ],
   "source": [
    "# Resta de vectores\n",
    "v1np - v2np"
   ]
  },
  {
   "cell_type": "code",
   "execution_count": 8,
   "id": "f7671ef4-f888-429e-9f08-6e0a1351158f",
   "metadata": {},
   "outputs": [
    {
     "data": {
      "text/plain": [
       "array([ 7, 14, 21])"
      ]
     },
     "execution_count": 8,
     "metadata": {},
     "output_type": "execute_result"
    }
   ],
   "source": [
    "# Multiplicación por escalar\n",
    "7 * v1np"
   ]
  },
  {
   "cell_type": "code",
   "execution_count": 9,
   "id": "22325681-0d69-4bd7-9379-c6d198729bf4",
   "metadata": {},
   "outputs": [
    {
     "data": {
      "text/plain": [
       "array([1., 1., 1., 1., 1., 1., 1., 1., 1., 1.])"
      ]
     },
     "execution_count": 9,
     "metadata": {},
     "output_type": "execute_result"
    }
   ],
   "source": [
    "# Funcion para crear vectores con 1's\n",
    "\n",
    "vunos = np.ones(10)\n",
    "vunos"
   ]
  },
  {
   "cell_type": "code",
   "execution_count": 10,
   "id": "bcbd26b6-b3f0-4f05-bede-fe4f26ec2b9a",
   "metadata": {},
   "outputs": [
    {
     "data": {
      "text/plain": [
       "array([1, 2, 3])"
      ]
     },
     "execution_count": 10,
     "metadata": {},
     "output_type": "execute_result"
    }
   ],
   "source": [
    "# Crear vectores por un rango definido\n",
    "vrange = np.arange(1,4)\n",
    "vrange"
   ]
  },
  {
   "cell_type": "code",
   "execution_count": 11,
   "id": "fed615d6-6ed4-433e-8754-7370825252ea",
   "metadata": {},
   "outputs": [
    {
     "data": {
      "text/plain": [
       "32"
      ]
     },
     "execution_count": 11,
     "metadata": {},
     "output_type": "execute_result"
    }
   ],
   "source": [
    "# Producto punto en numpy\n",
    "np.dot(v1np, v2np)"
   ]
  },
  {
   "cell_type": "code",
   "execution_count": 12,
   "id": "cd0f4b07-30f6-4bb3-8a82-3525123a6a1a",
   "metadata": {},
   "outputs": [
    {
     "data": {
      "text/plain": [
       "32"
      ]
     },
     "execution_count": 12,
     "metadata": {},
     "output_type": "execute_result"
    }
   ],
   "source": [
    "# Producto punto con sum (función nativa de python)\n",
    "\n",
    "sum(v1np * v2np)"
   ]
  },
  {
   "cell_type": "code",
   "execution_count": 13,
   "id": "709ccfe0-09e9-4b87-82e2-f60425527b3c",
   "metadata": {},
   "outputs": [
    {
     "data": {
      "text/plain": [
       "0"
      ]
     },
     "execution_count": 13,
     "metadata": {},
     "output_type": "execute_result"
    }
   ],
   "source": [
    "# Ejemplo de vectores ortogonales o perpendiculares\n",
    "v1 = np.array([3,4])\n",
    "v2 = np.array([4,-3])\n",
    "\n",
    "np.dot(v1,v2)"
   ]
  },
  {
   "cell_type": "code",
   "execution_count": 14,
   "id": "9bfd9d4a-f6ed-4933-a6dd-d321f1fba0a5",
   "metadata": {},
   "outputs": [
    {
     "data": {
      "text/plain": [
       "9.16515138991168"
      ]
     },
     "execution_count": 14,
     "metadata": {},
     "output_type": "execute_result"
    }
   ],
   "source": [
    "# Ejemplo de calculo de norma del vector\n",
    "\n",
    "v3 = [3,7,5,1]\n",
    "np.linalg.norm(v3)"
   ]
  },
  {
   "cell_type": "markdown",
   "id": "9053ca2f-7d66-459b-9335-8fc6ab4879af",
   "metadata": {},
   "source": [
    "# Matrices"
   ]
  },
  {
   "cell_type": "code",
   "execution_count": 16,
   "id": "ef58d4a8-050c-4aee-8440-b00f49705c42",
   "metadata": {},
   "outputs": [],
   "source": [
    "A = np.array([[1,3,2], # Para creear matrices van dentro de una lista, y son listas separadas por comas\n",
    "              [1,0,0],\n",
    "              [1,2,2]])"
   ]
  },
  {
   "cell_type": "code",
   "execution_count": 17,
   "id": "1f42f375-2dae-4947-82fa-b62dab60217e",
   "metadata": {},
   "outputs": [],
   "source": [
    "B = np.array([[1,0,5], \n",
    "              [7,5,0],\n",
    "              [2,1,1]])"
   ]
  },
  {
   "cell_type": "code",
   "execution_count": 18,
   "id": "53671d4a-1738-43b3-b070-85ef1da59728",
   "metadata": {},
   "outputs": [
    {
     "data": {
      "text/plain": [
       "array([[2, 3, 7],\n",
       "       [8, 5, 0],\n",
       "       [3, 3, 3]])"
      ]
     },
     "execution_count": 18,
     "metadata": {},
     "output_type": "execute_result"
    }
   ],
   "source": [
    "A + B"
   ]
  },
  {
   "cell_type": "code",
   "execution_count": 19,
   "id": "8999a40c-fa87-4d67-bf24-586ebf8f31ae",
   "metadata": {},
   "outputs": [
    {
     "data": {
      "text/plain": [
       "array([[ 0,  3, -3],\n",
       "       [-6, -5,  0],\n",
       "       [-1,  1,  1]])"
      ]
     },
     "execution_count": 19,
     "metadata": {},
     "output_type": "execute_result"
    }
   ],
   "source": [
    "A - B"
   ]
  },
  {
   "cell_type": "code",
   "execution_count": 20,
   "id": "c405ae65-18dd-4029-8c32-c95ef77f0d0b",
   "metadata": {},
   "outputs": [
    {
     "data": {
      "text/plain": [
       "array([[ 5, 15, 10],\n",
       "       [ 5,  0,  0],\n",
       "       [ 5, 10, 10]])"
      ]
     },
     "execution_count": 20,
     "metadata": {},
     "output_type": "execute_result"
    }
   ],
   "source": [
    "A * 5"
   ]
  },
  {
   "cell_type": "code",
   "execution_count": 21,
   "id": "fad82b14-750a-488a-b9c6-c93ec8f6d391",
   "metadata": {},
   "outputs": [
    {
     "data": {
      "text/plain": [
       "(3, 3)"
      ]
     },
     "execution_count": 21,
     "metadata": {},
     "output_type": "execute_result"
    }
   ],
   "source": [
    "# Para ver la dimensión de mi matriz\n",
    "A.shape"
   ]
  },
  {
   "cell_type": "code",
   "execution_count": 22,
   "id": "aaea7c98-8ec9-41a2-b1c1-af0b2c4a0295",
   "metadata": {},
   "outputs": [
    {
     "data": {
      "text/plain": [
       "9"
      ]
     },
     "execution_count": 22,
     "metadata": {},
     "output_type": "execute_result"
    }
   ],
   "source": [
    "A.size"
   ]
  },
  {
   "cell_type": "code",
   "execution_count": 26,
   "id": "646cb05f-77ad-4e7c-97b3-ca20be71fb8e",
   "metadata": {},
   "outputs": [
    {
     "data": {
      "text/plain": [
       "array([[ 1,  2,  3,  4],\n",
       "       [ 5,  6,  7,  8],\n",
       "       [ 9, 10, 11, 12]])"
      ]
     },
     "execution_count": 26,
     "metadata": {},
     "output_type": "execute_result"
    }
   ],
   "source": [
    "# Multiplicación de matrices\n",
    "\n",
    "A = np.arange(1,13).reshape(3,4)\n",
    "A"
   ]
  },
  {
   "cell_type": "code",
   "execution_count": 27,
   "id": "6f4f9f5d-597f-4ff8-a8ef-147fd74a50a4",
   "metadata": {},
   "outputs": [
    {
     "data": {
      "text/plain": [
       "array([[0, 1],\n",
       "       [2, 3],\n",
       "       [4, 5],\n",
       "       [6, 7]])"
      ]
     },
     "execution_count": 27,
     "metadata": {},
     "output_type": "execute_result"
    }
   ],
   "source": [
    "B = np.arange(8).reshape(4,2)\n",
    "B"
   ]
  },
  {
   "cell_type": "code",
   "execution_count": 28,
   "id": "53e29a32-52fb-40d9-b591-c9edee7dbea1",
   "metadata": {},
   "outputs": [
    {
     "data": {
      "text/plain": [
       "array([[ 40,  50],\n",
       "       [ 88, 114],\n",
       "       [136, 178]])"
      ]
     },
     "execution_count": 28,
     "metadata": {},
     "output_type": "execute_result"
    }
   ],
   "source": [
    "A @ B #El arroba es el simbolo que usa numpy para realizar la multiplicación de matrices"
   ]
  },
  {
   "cell_type": "code",
   "execution_count": 30,
   "id": "8900fd6b-f9c2-4174-a0fb-6c8e8156ee33",
   "metadata": {},
   "outputs": [
    {
     "data": {
      "text/plain": [
       "array([[1., 0.],\n",
       "       [0., 1.]])"
      ]
     },
     "execution_count": 30,
     "metadata": {},
     "output_type": "execute_result"
    }
   ],
   "source": [
    "I = np.eye(2)\n",
    "I"
   ]
  },
  {
   "cell_type": "code",
   "execution_count": 32,
   "id": "6b206bf1-f971-44b2-8d7b-aa222579d6c2",
   "metadata": {},
   "outputs": [],
   "source": [
    "C = np.array([[4,7],[2,6]])"
   ]
  },
  {
   "cell_type": "code",
   "execution_count": 33,
   "id": "345b6c38-fd80-4860-a738-58701c874e8c",
   "metadata": {},
   "outputs": [
    {
     "data": {
      "text/plain": [
       "array([[4., 7.],\n",
       "       [2., 6.]])"
      ]
     },
     "execution_count": 33,
     "metadata": {},
     "output_type": "execute_result"
    }
   ],
   "source": [
    "I @ C"
   ]
  },
  {
   "cell_type": "code",
   "execution_count": 35,
   "id": "73b902ad-3c34-4d2b-8642-a288ddba8ba5",
   "metadata": {},
   "outputs": [
    {
     "data": {
      "text/plain": [
       "-9.999999999999998"
      ]
     },
     "execution_count": 35,
     "metadata": {},
     "output_type": "execute_result"
    }
   ],
   "source": [
    "# Calculo del determinante\n",
    "D = np.array([[1,7],[2,4]])\n",
    "np.linalg.det(D)"
   ]
  },
  {
   "cell_type": "code",
   "execution_count": 37,
   "id": "6677ee72-1c73-4adb-b2c2-631e6388c525",
   "metadata": {},
   "outputs": [
    {
     "data": {
      "text/plain": [
       "36.0"
      ]
     },
     "execution_count": 37,
     "metadata": {},
     "output_type": "execute_result"
    }
   ],
   "source": [
    "# Calculo del determinante\n",
    "E = np.array([[1,2,3],[4,1,2],[3,4,1]])\n",
    "np.linalg.det(E)"
   ]
  },
  {
   "cell_type": "code",
   "execution_count": 38,
   "id": "021a7601-941c-478d-ba72-3f47dabb954e",
   "metadata": {},
   "outputs": [
    {
     "data": {
      "text/plain": [
       "array([[0, 1],\n",
       "       [2, 3],\n",
       "       [4, 5]])"
      ]
     },
     "execution_count": 38,
     "metadata": {},
     "output_type": "execute_result"
    }
   ],
   "source": [
    "# Matriz transpuesta\n",
    "F = np.arange(6).reshape(3,2)\n",
    "F"
   ]
  },
  {
   "cell_type": "code",
   "execution_count": 39,
   "id": "1a3d9888-cc47-45b6-93d1-f4d8dbe67f78",
   "metadata": {},
   "outputs": [
    {
     "data": {
      "text/plain": [
       "array([[0, 2, 4],\n",
       "       [1, 3, 5]])"
      ]
     },
     "execution_count": 39,
     "metadata": {},
     "output_type": "execute_result"
    }
   ],
   "source": [
    "np.transpose(F)"
   ]
  },
  {
   "cell_type": "code",
   "execution_count": 41,
   "id": "b3b44d39-f94d-4315-9fe2-06ddafd5e735",
   "metadata": {},
   "outputs": [
    {
     "data": {
      "text/plain": [
       "array([[ 0.6, -0.7],\n",
       "       [-0.2,  0.4]])"
      ]
     },
     "execution_count": 41,
     "metadata": {},
     "output_type": "execute_result"
    }
   ],
   "source": [
    "inv = np.linalg.inv(C)\n",
    "inv"
   ]
  },
  {
   "cell_type": "code",
   "execution_count": null,
   "id": "8aea307b-db46-4d8e-a336-edd75526ad8b",
   "metadata": {},
   "outputs": [],
   "source": []
  }
 ],
 "metadata": {
  "kernelspec": {
   "display_name": "Python 3 (ipykernel)",
   "language": "python",
   "name": "python3"
  },
  "language_info": {
   "codemirror_mode": {
    "name": "ipython",
    "version": 3
   },
   "file_extension": ".py",
   "mimetype": "text/x-python",
   "name": "python",
   "nbconvert_exporter": "python",
   "pygments_lexer": "ipython3",
   "version": "3.11.6"
  }
 },
 "nbformat": 4,
 "nbformat_minor": 5
}
